{
 "cells": [
  {
   "cell_type": "markdown",
   "id": "1f67c29a",
   "metadata": {},
   "source": [
    "<img src=\"images/Screenshot 2024-05-30 192811.png\" style=\"width:auto; margin:auto; display:block; height:300px\"/>\n",
    "\n",
    "\n",
    "### **LipNet** - A Spatio-Temporal Convolution Based Lip Reading Neural Network for Sentence Level Prediction\n",
    "\n",
    "<img src=\"images/Screenshot 2024-05-30 201636.png\" style=\"width:auto; margin:auto; display:block; height:200px\"/>\n",
    "\n",
    "**Changes In Architecture** -\n",
    "1. Number of Filters and Layers in Spatio-Temporal Convolution.\n",
    "2. Bidiractional LSTMs instead of GRUs.\n",
    "3. Number of fully connected layers and nodes.\n",
    "\n",
    "\n",
    "<a href=\"https://arxiv.org/pdf/1611.01599\">Link to the Actual Paper : LIPNET: END-TO-END SENTENCE-LEVEL LIPREADING<a/>"
   ]
  },
  {
   "cell_type": "markdown",
   "id": "37aaf321",
   "metadata": {
    "papermill": {
     "duration": 0.009944,
     "end_time": "2024-05-30T11:15:53.331353",
     "exception": false,
     "start_time": "2024-05-30T11:15:53.321409",
     "status": "completed"
    },
    "tags": []
   },
   "source": [
    "# 1. Import Dependencies"
   ]
  },
  {
   "cell_type": "code",
   "execution_count": null,
   "id": "0e9a7054",
   "metadata": {
    "execution": {
     "iopub.execute_input": "2024-05-30T11:15:53.353480Z",
     "iopub.status.busy": "2024-05-30T11:15:53.352743Z",
     "iopub.status.idle": "2024-05-30T11:16:09.594965Z",
     "shell.execute_reply": "2024-05-30T11:16:09.593935Z"
    },
    "papermill": {
     "duration": 16.25528,
     "end_time": "2024-05-30T11:16:09.597505",
     "exception": false,
     "start_time": "2024-05-30T11:15:53.342225",
     "status": "completed"
    },
    "tags": []
   },
   "outputs": [],
   "source": [
    "%pip install tensorflow==2.15.0"
   ]
  },
  {
   "cell_type": "code",
   "execution_count": null,
   "id": "6432515e",
   "metadata": {
    "execution": {
     "iopub.execute_input": "2024-05-30T11:16:09.620898Z",
     "iopub.status.busy": "2024-05-30T11:16:09.620608Z",
     "iopub.status.idle": "2024-05-30T11:16:21.643539Z",
     "shell.execute_reply": "2024-05-30T11:16:21.642782Z"
    },
    "papermill": {
     "duration": 12.036958,
     "end_time": "2024-05-30T11:16:21.645724",
     "exception": false,
     "start_time": "2024-05-30T11:16:09.608766",
     "status": "completed"
    },
    "tags": []
   },
   "outputs": [],
   "source": [
    "import tensorflow as tf\n",
    "import numpy as np\n",
    "import matplotlib.pyplot as plt\n",
    "import cv2\n",
    "import imageio\n",
    "import os\n",
    "import glob\n",
    "import string"
   ]
  },
  {
   "cell_type": "code",
   "execution_count": 3,
   "id": "df2d197c",
   "metadata": {
    "execution": {
     "iopub.execute_input": "2024-05-30T11:16:21.669320Z",
     "iopub.status.busy": "2024-05-30T11:16:21.668848Z",
     "iopub.status.idle": "2024-05-30T11:16:21.675182Z",
     "shell.execute_reply": "2024-05-30T11:16:21.674407Z"
    },
    "papermill": {
     "duration": 0.020136,
     "end_time": "2024-05-30T11:16:21.677110",
     "exception": false,
     "start_time": "2024-05-30T11:16:21.656974",
     "status": "completed"
    },
    "tags": []
   },
   "outputs": [
    {
     "data": {
      "text/plain": [
       "'2.15.0'"
      ]
     },
     "execution_count": 3,
     "metadata": {},
     "output_type": "execute_result"
    }
   ],
   "source": [
    "tf.__version__"
   ]
  },
  {
   "cell_type": "code",
   "execution_count": 4,
   "id": "a74dae9c",
   "metadata": {
    "execution": {
     "iopub.execute_input": "2024-05-30T11:16:21.701232Z",
     "iopub.status.busy": "2024-05-30T11:16:21.700994Z",
     "iopub.status.idle": "2024-05-30T11:16:21.925608Z",
     "shell.execute_reply": "2024-05-30T11:16:21.924692Z"
    },
    "papermill": {
     "duration": 0.238352,
     "end_time": "2024-05-30T11:16:21.927471",
     "exception": false,
     "start_time": "2024-05-30T11:16:21.689119",
     "status": "completed"
    },
    "tags": []
   },
   "outputs": [],
   "source": [
    "gpus = tf.config.list_physical_devices('GPU')\n",
    "if gpus:\n",
    "    for gpu in gpus:\n",
    "        tf.config.experimental.set_memory_growth(gpu, True)\n",
    "else:\n",
    "    print(\"No GPU found\")"
   ]
  },
  {
   "cell_type": "markdown",
   "id": "f86ddf0c",
   "metadata": {
    "papermill": {
     "duration": 0.010938,
     "end_time": "2024-05-30T11:16:21.949732",
     "exception": false,
     "start_time": "2024-05-30T11:16:21.938794",
     "status": "completed"
    },
    "tags": []
   },
   "source": [
    "# 2. Data Loading Functions"
   ]
  },
  {
   "cell_type": "markdown",
   "id": "6ab792f5",
   "metadata": {},
   "source": [
    "#### Specification of Loading Video and Preprocessing\n",
    "* Step 1. Read the video file\n",
    "* Step 2. Crop the frames in approximate location of the lips\n",
    "* Step 3. Normalize the frames"
   ]
  },
  {
   "cell_type": "code",
   "execution_count": 5,
   "id": "bc6a4af2",
   "metadata": {
    "execution": {
     "iopub.execute_input": "2024-05-30T11:16:21.973153Z",
     "iopub.status.busy": "2024-05-30T11:16:21.972873Z",
     "iopub.status.idle": "2024-05-30T11:16:21.980289Z",
     "shell.execute_reply": "2024-05-30T11:16:21.979464Z"
    },
    "papermill": {
     "duration": 0.021152,
     "end_time": "2024-05-30T11:16:21.982050",
     "exception": false,
     "start_time": "2024-05-30T11:16:21.960898",
     "status": "completed"
    },
    "tags": []
   },
   "outputs": [],
   "source": [
    "def load_video(path : str):\n",
    "    cap = cv2.VideoCapture(path)\n",
    "    frames = []\n",
    "    for _ in range(int(cap.get(cv2.CAP_PROP_FRAME_COUNT))):\n",
    "        ret, frame = cap.read()\n",
    "        frame = cv2.cvtColor(frame, cv2.COLOR_BGR2GRAY)\n",
    "#         frame = tf.image.rgb_to_grayscale(frame)\n",
    "        frames.append(frame[190:236, 80:220, np.newaxis])\n",
    "    cap.release()\n",
    "    mean = tf.math.reduce_mean(frames)\n",
    "    std = tf.math.reduce_std(tf.cast(frames, tf.float32))\n",
    "    return tf.cast((frames - mean), tf.float32) / std"
   ]
  },
  {
   "cell_type": "code",
   "execution_count": 7,
   "id": "06eb5cff",
   "metadata": {
    "execution": {
     "iopub.execute_input": "2024-05-30T11:16:22.035227Z",
     "iopub.status.busy": "2024-05-30T11:16:22.034975Z",
     "iopub.status.idle": "2024-05-30T11:16:25.839985Z",
     "shell.execute_reply": "2024-05-30T11:16:25.838952Z"
    },
    "papermill": {
     "duration": 3.819323,
     "end_time": "2024-05-30T11:16:25.842053",
     "exception": false,
     "start_time": "2024-05-30T11:16:22.022730",
     "status": "completed"
    },
    "tags": []
   },
   "outputs": [
    {
     "name": "stdout",
     "output_type": "stream",
     "text": [
      "(75, 46, 140, 1)\n"
     ]
    }
   ],
   "source": [
    "frames = load_video(\"/kaggle/input/lip-reading-video-subset/s1/bbaf2n.mpg\")\n",
    "print(frames.shape)"
   ]
  },
  {
   "cell_type": "code",
   "execution_count": 8,
   "id": "68230bc9",
   "metadata": {
    "execution": {
     "iopub.execute_input": "2024-05-30T11:16:25.866315Z",
     "iopub.status.busy": "2024-05-30T11:16:25.866026Z",
     "iopub.status.idle": "2024-05-30T11:16:26.142919Z",
     "shell.execute_reply": "2024-05-30T11:16:26.142057Z"
    },
    "papermill": {
     "duration": 0.291248,
     "end_time": "2024-05-30T11:16:26.144993",
     "exception": false,
     "start_time": "2024-05-30T11:16:25.853745",
     "status": "completed"
    },
    "tags": []
   },
   "outputs": [
    {
     "data": {
      "text/plain": [
       "<matplotlib.image.AxesImage at 0x7c79a2a90130>"
      ]
     },
     "execution_count": 8,
     "metadata": {},
     "output_type": "execute_result"
    },
    {
     "data": {
      "image/png": "[encoded data removed]",
      "text/plain": [
       "<Figure size 640x480 with 1 Axes>"
      ]
     },
     "metadata": {},
     "output_type": "display_data"
    }
   ],
   "source": [
    "plt.imshow(frames[3], cmap='gray')"
   ]
  },
  {
   "cell_type": "markdown",
   "id": "2c3566c6",
   "metadata": {},
   "source": [
    "### Create Vocabulary and LookUp Table\n",
    "This lookup table will be used to encode and decoded the characters in labels. This should be consistent over each and every run"
   ]
  },
  {
   "cell_type": "code",
   "execution_count": 9,
   "id": "4b5a9acb",
   "metadata": {
    "execution": {
     "iopub.execute_input": "2024-05-30T11:16:26.170578Z",
     "iopub.status.busy": "2024-05-30T11:16:26.170063Z",
     "iopub.status.idle": "2024-05-30T11:16:26.174166Z",
     "shell.execute_reply": "2024-05-30T11:16:26.173334Z"
    },
    "papermill": {
     "duration": 0.018736,
     "end_time": "2024-05-30T11:16:26.176097",
     "exception": false,
     "start_time": "2024-05-30T11:16:26.157361",
     "status": "completed"
    },
    "tags": []
   },
   "outputs": [],
   "source": [
    "vocab = string.ascii_lowercase + \"'?! \"\n",
    "vocab = list(vocab)"
   ]
  },
  {
   "cell_type": "code",
   "execution_count": 10,
   "id": "aebac255",
   "metadata": {
    "execution": {
     "iopub.execute_input": "2024-05-30T11:16:26.200833Z",
     "iopub.status.busy": "2024-05-30T11:16:26.200577Z",
     "iopub.status.idle": "2024-05-30T11:16:26.255163Z",
     "shell.execute_reply": "2024-05-30T11:16:26.254227Z"
    },
    "papermill": {
     "duration": 0.069155,
     "end_time": "2024-05-30T11:16:26.257132",
     "exception": false,
     "start_time": "2024-05-30T11:16:26.187977",
     "status": "completed"
    },
    "tags": []
   },
   "outputs": [],
   "source": [
    "char_to_num = tf.keras.layers.StringLookup(vocabulary=vocab, oov_token=\"\")\n",
    "num_to_char = tf.keras.layers.StringLookup(vocabulary=char_to_num.get_vocabulary(), oov_token=\"\", invert=True)"
   ]
  },
  {
   "cell_type": "code",
   "execution_count": 11,
   "id": "58c279e8",
   "metadata": {
    "execution": {
     "iopub.execute_input": "2024-05-30T11:16:26.282074Z",
     "iopub.status.busy": "2024-05-30T11:16:26.281800Z",
     "iopub.status.idle": "2024-05-30T11:16:26.319189Z",
     "shell.execute_reply": "2024-05-30T11:16:26.318354Z"
    },
    "papermill": {
     "duration": 0.05195,
     "end_time": "2024-05-30T11:16:26.321065",
     "exception": false,
     "start_time": "2024-05-30T11:16:26.269115",
     "status": "completed"
    },
    "tags": []
   },
   "outputs": [
    {
     "data": {
      "text/plain": [
       "{'': 0,\n",
       " 'a': 1,\n",
       " 'b': 2,\n",
       " 'c': 3,\n",
       " 'd': 4,\n",
       " 'e': 5,\n",
       " 'f': 6,\n",
       " 'g': 7,\n",
       " 'h': 8,\n",
       " 'i': 9,\n",
       " 'j': 10,\n",
       " 'k': 11,\n",
       " 'l': 12,\n",
       " 'm': 13,\n",
       " 'n': 14,\n",
       " 'o': 15,\n",
       " 'p': 16,\n",
       " 'q': 17,\n",
       " 'r': 18,\n",
       " 's': 19,\n",
       " 't': 20,\n",
       " 'u': 21,\n",
       " 'v': 22,\n",
       " 'w': 23,\n",
       " 'x': 24,\n",
       " 'y': 25,\n",
       " 'z': 26,\n",
       " \"'\": 27,\n",
       " '?': 28,\n",
       " '!': 29,\n",
       " ' ': 30}"
      ]
     },
     "execution_count": 11,
     "metadata": {},
     "output_type": "execute_result"
    }
   ],
   "source": [
    "char2num_dict = {c: char_to_num(c).numpy() for c in char_to_num.get_vocabulary()}\n",
    "char2num_dict"
   ]
  },
  {
   "cell_type": "code",
   "execution_count": 12,
   "id": "d6141641",
   "metadata": {
    "execution": {
     "iopub.execute_input": "2024-05-30T11:16:26.347113Z",
     "iopub.status.busy": "2024-05-30T11:16:26.346319Z",
     "iopub.status.idle": "2024-05-30T11:16:26.381090Z",
     "shell.execute_reply": "2024-05-30T11:16:26.380293Z"
    },
    "papermill": {
     "duration": 0.049569,
     "end_time": "2024-05-30T11:16:26.382981",
     "exception": false,
     "start_time": "2024-05-30T11:16:26.333412",
     "status": "completed"
    },
    "tags": []
   },
   "outputs": [
    {
     "data": {
      "text/plain": [
       "{0: '',\n",
       " 1: 'a',\n",
       " 2: 'b',\n",
       " 3: 'c',\n",
       " 4: 'd',\n",
       " 5: 'e',\n",
       " 6: 'f',\n",
       " 7: 'g',\n",
       " 8: 'h',\n",
       " 9: 'i',\n",
       " 10: 'j',\n",
       " 11: 'k',\n",
       " 12: 'l',\n",
       " 13: 'm',\n",
       " 14: 'n',\n",
       " 15: 'o',\n",
       " 16: 'p',\n",
       " 17: 'q',\n",
       " 18: 'r',\n",
       " 19: 's',\n",
       " 20: 't',\n",
       " 21: 'u',\n",
       " 22: 'v',\n",
       " 23: 'w',\n",
       " 24: 'x',\n",
       " 25: 'y',\n",
       " 26: 'z',\n",
       " 27: \"'\",\n",
       " 28: '?',\n",
       " 29: '!',\n",
       " 30: ' '}"
      ]
     },
     "execution_count": 12,
     "metadata": {},
     "output_type": "execute_result"
    }
   ],
   "source": [
    "num2char_dict = {char_to_num(c).numpy():c  for c in num_to_char.get_vocabulary()}\n",
    "num2char_dict"
   ]
  },
  {
   "cell_type": "code",
   "execution_count": 13,
   "id": "1aff52c3",
   "metadata": {
    "execution": {
     "iopub.execute_input": "2024-05-30T11:16:26.408502Z",
     "iopub.status.busy": "2024-05-30T11:16:26.408218Z",
     "iopub.status.idle": "2024-05-30T11:16:26.419120Z",
     "shell.execute_reply": "2024-05-30T11:16:26.418220Z"
    },
    "papermill": {
     "duration": 0.025745,
     "end_time": "2024-05-30T11:16:26.420992",
     "exception": false,
     "start_time": "2024-05-30T11:16:26.395247",
     "status": "completed"
    },
    "tags": []
   },
   "outputs": [
    {
     "name": "stdout",
     "output_type": "stream",
     "text": [
      "tf.Tensor([1 2 3], shape=(3,), dtype=int64) tf.Tensor([b'a' b'b' b'c'], shape=(3,), dtype=string)\n"
     ]
    }
   ],
   "source": [
    "print(char_to_num([\"a\", \"b\", \"c\"]), \n",
    "     num_to_char([1,2,3]))"
   ]
  },
  {
   "cell_type": "markdown",
   "id": "8b93c403",
   "metadata": {},
   "source": [
    "## Specification of Loading Alignments and Preprocessing\n",
    "* Step 1. Read the text file\n",
    "* Step 2. Get the text for each word\n",
    "* Step 3. Create a tensor of numbers from LookUp Table"
   ]
  },
  {
   "cell_type": "code",
   "execution_count": 14,
   "id": "077a2763",
   "metadata": {
    "execution": {
     "iopub.execute_input": "2024-05-30T11:16:26.447207Z",
     "iopub.status.busy": "2024-05-30T11:16:26.446603Z",
     "iopub.status.idle": "2024-05-30T11:16:26.451942Z",
     "shell.execute_reply": "2024-05-30T11:16:26.451098Z"
    },
    "papermill": {
     "duration": 0.020325,
     "end_time": "2024-05-30T11:16:26.453793",
     "exception": false,
     "start_time": "2024-05-30T11:16:26.433468",
     "status": "completed"
    },
    "tags": []
   },
   "outputs": [],
   "source": [
    "def load_alignment(path : str):\n",
    "    with open(path, \"r\") as f:\n",
    "        lines = f.readlines()\n",
    "    tokens = []\n",
    "    for line in lines:\n",
    "        start, end, text = line.split()\n",
    "        if text!='sil':\n",
    "            tokens.append(text)\n",
    "    chars = list(\" \".join(tokens))\n",
    "    return char_to_num(chars)"
   ]
  },
  {
   "cell_type": "code",
   "execution_count": 15,
   "id": "9d7ab92f",
   "metadata": {
    "execution": {
     "iopub.execute_input": "2024-05-30T11:16:26.480952Z",
     "iopub.status.busy": "2024-05-30T11:16:26.480715Z",
     "iopub.status.idle": "2024-05-30T11:16:26.495796Z",
     "shell.execute_reply": "2024-05-30T11:16:26.494709Z"
    },
    "papermill": {
     "duration": 0.030513,
     "end_time": "2024-05-30T11:16:26.497793",
     "exception": false,
     "start_time": "2024-05-30T11:16:26.467280",
     "status": "completed"
    },
    "tags": []
   },
   "outputs": [
    {
     "name": "stdout",
     "output_type": "stream",
     "text": [
      "tf.Tensor([ 2  9 14 30  2 12 21  5 30  1 20 30  6 30 20 23 15 30 14 15 23], shape=(21,), dtype=int64)\n",
      "tf.Tensor(\n",
      "[b'b' b'i' b'n' b' ' b'b' b'l' b'u' b'e' b' ' b'a' b't' b' ' b'f' b' '\n",
      " b't' b'w' b'o' b' ' b'n' b'o' b'w'], shape=(21,), dtype=string)\n"
     ]
    }
   ],
   "source": [
    "num = load_alignment(\"/kaggle/input/lip-reading-video-subset/alignments/s1/bbaf2n.align\")\n",
    "print(num)\n",
    "print(num_to_char(num))"
   ]
  },
  {
   "cell_type": "markdown",
   "id": "6b84261b",
   "metadata": {},
   "source": [
    "## Combined Loading Function to Load Video and Alignments at once"
   ]
  },
  {
   "cell_type": "code",
   "execution_count": 16,
   "id": "346b8e2b",
   "metadata": {
    "execution": {
     "iopub.execute_input": "2024-05-30T11:16:26.524665Z",
     "iopub.status.busy": "2024-05-30T11:16:26.524388Z",
     "iopub.status.idle": "2024-05-30T11:16:26.529483Z",
     "shell.execute_reply": "2024-05-30T11:16:26.528682Z"
    },
    "papermill": {
     "duration": 0.020612,
     "end_time": "2024-05-30T11:16:26.531335",
     "exception": false,
     "start_time": "2024-05-30T11:16:26.510723",
     "status": "completed"
    },
    "tags": []
   },
   "outputs": [],
   "source": [
    "def load_data(video_path : str):\n",
    "    video_id = video_path.numpy().decode('UTF-8').replace(\"\\\\\", \"/\").split(\"/\")[-1].split(\".\")[0]\n",
    "    align_path = f\"/kaggle/input/lip-reading-video-subset/alignments/s1/{video_id}.align\"\n",
    "    video_path = video_path.numpy().decode('UTF-8')\n",
    "#     print(\"error 1\")\n",
    "    video_data = load_video(video_path)\n",
    "#     print(\"error 2\")\n",
    "    char_num = load_alignment(align_path)\n",
    "#     print(\"error 3\")\n",
    "    return video_data, char_num"
   ]
  },
  {
   "cell_type": "code",
   "execution_count": 17,
   "id": "19ffcc41",
   "metadata": {
    "execution": {
     "iopub.execute_input": "2024-05-30T11:16:26.558056Z",
     "iopub.status.busy": "2024-05-30T11:16:26.557825Z",
     "iopub.status.idle": "2024-05-30T11:16:29.515044Z",
     "shell.execute_reply": "2024-05-30T11:16:29.514290Z"
    },
    "papermill": {
     "duration": 2.97282,
     "end_time": "2024-05-30T11:16:29.517166",
     "exception": false,
     "start_time": "2024-05-30T11:16:26.544346",
     "status": "completed"
    },
    "tags": []
   },
   "outputs": [],
   "source": [
    "v,c = load_data(tf.constant(\"/kaggle/input/lip-reading-video-subset/s1/bbaf3s.mpg\"))"
   ]
  },
  {
   "cell_type": "code",
   "execution_count": 18,
   "id": "36d9b30f",
   "metadata": {
    "execution": {
     "iopub.execute_input": "2024-05-30T11:16:29.544489Z",
     "iopub.status.busy": "2024-05-30T11:16:29.544185Z",
     "iopub.status.idle": "2024-05-30T11:16:29.549463Z",
     "shell.execute_reply": "2024-05-30T11:16:29.548688Z"
    },
    "papermill": {
     "duration": 0.020756,
     "end_time": "2024-05-30T11:16:29.551301",
     "exception": false,
     "start_time": "2024-05-30T11:16:29.530545",
     "status": "completed"
    },
    "tags": []
   },
   "outputs": [
    {
     "data": {
      "text/plain": [
       "(TensorShape([75, 46, 140, 1]), TensorShape([24]))"
      ]
     },
     "execution_count": 18,
     "metadata": {},
     "output_type": "execute_result"
    }
   ],
   "source": [
    "v.shape, c.shape"
   ]
  },
  {
   "cell_type": "code",
   "execution_count": 19,
   "id": "afcb3d07",
   "metadata": {
    "execution": {
     "iopub.execute_input": "2024-05-30T11:16:29.578654Z",
     "iopub.status.busy": "2024-05-30T11:16:29.578006Z",
     "iopub.status.idle": "2024-05-30T11:16:29.582214Z",
     "shell.execute_reply": "2024-05-30T11:16:29.581436Z"
    },
    "papermill": {
     "duration": 0.019967,
     "end_time": "2024-05-30T11:16:29.584266",
     "exception": false,
     "start_time": "2024-05-30T11:16:29.564299",
     "status": "completed"
    },
    "tags": []
   },
   "outputs": [],
   "source": [
    "def mappable_function(path : str):\n",
    "    result = tf.py_function(load_data, [path], (tf.float32, tf.int64))\n",
    "    return result"
   ]
  },
  {
   "cell_type": "markdown",
   "id": "e63d0d9c",
   "metadata": {
    "papermill": {
     "duration": 0.012959,
     "end_time": "2024-05-30T11:16:29.611002",
     "exception": false,
     "start_time": "2024-05-30T11:16:29.598043",
     "status": "completed"
    },
    "tags": []
   },
   "source": [
    "# 3. Create Data Loading Function"
   ]
  },
  {
   "cell_type": "code",
   "execution_count": 20,
   "id": "5bb082fd",
   "metadata": {
    "execution": {
     "iopub.execute_input": "2024-05-30T11:16:29.638472Z",
     "iopub.status.busy": "2024-05-30T11:16:29.637999Z",
     "iopub.status.idle": "2024-05-30T11:16:30.456810Z",
     "shell.execute_reply": "2024-05-30T11:16:30.455865Z"
    },
    "papermill": {
     "duration": 0.834795,
     "end_time": "2024-05-30T11:16:30.459069",
     "exception": false,
     "start_time": "2024-05-30T11:16:29.624274",
     "status": "completed"
    },
    "tags": []
   },
   "outputs": [],
   "source": [
    "from sklearn.model_selection import train_test_split"
   ]
  },
  {
   "cell_type": "code",
   "execution_count": 21,
   "id": "bb8be149",
   "metadata": {
    "execution": {
     "iopub.execute_input": "2024-05-30T11:16:30.488487Z",
     "iopub.status.busy": "2024-05-30T11:16:30.487935Z",
     "iopub.status.idle": "2024-05-30T11:16:30.793205Z",
     "shell.execute_reply": "2024-05-30T11:16:30.792367Z"
    },
    "papermill": {
     "duration": 0.321645,
     "end_time": "2024-05-30T11:16:30.795307",
     "exception": false,
     "start_time": "2024-05-30T11:16:30.473662",
     "status": "completed"
    },
    "tags": []
   },
   "outputs": [],
   "source": [
    "videos = glob.glob(\"/kaggle/input/lip-reading-video-subset/s1/*.mpg\")\n",
    "train, test = train_test_split(videos, test_size=0.2, random_state=42)"
   ]
  },
  {
   "cell_type": "code",
   "execution_count": 22,
   "id": "314eae91",
   "metadata": {
    "execution": {
     "iopub.execute_input": "2024-05-30T11:16:30.823554Z",
     "iopub.status.busy": "2024-05-30T11:16:30.823264Z",
     "iopub.status.idle": "2024-05-30T11:16:30.914681Z",
     "shell.execute_reply": "2024-05-30T11:16:30.913842Z"
    },
    "papermill": {
     "duration": 0.107644,
     "end_time": "2024-05-30T11:16:30.916532",
     "exception": false,
     "start_time": "2024-05-30T11:16:30.808888",
     "status": "completed"
    },
    "tags": []
   },
   "outputs": [],
   "source": [
    "data = tf.data.Dataset.from_tensor_slices(train)\n",
    "data = data.shuffle(500)\n",
    "data = data.map(mappable_function, num_parallel_calls=tf.data.AUTOTUNE)\n",
    "data = data.padded_batch(8, padded_shapes=([75, None, None, None], [40]))\n",
    "data = data.prefetch(tf.data.AUTOTUNE).cache()\n",
    "\n",
    "val = tf.data.Dataset.from_tensor_slices(test)\n",
    "val = val.shuffle(500)\n",
    "val = val.map(mappable_function, num_parallel_calls=tf.data.AUTOTUNE)\n",
    "val = val.padded_batch(8, padded_shapes=([75, None, None, None], [40]))\n",
    "val = val.prefetch(tf.data.AUTOTUNE).cache()"
   ]
  },
  {
   "cell_type": "code",
   "execution_count": 23,
   "id": "aa24a4aa",
   "metadata": {
    "execution": {
     "iopub.execute_input": "2024-05-30T11:16:30.944579Z",
     "iopub.status.busy": "2024-05-30T11:16:30.944134Z",
     "iopub.status.idle": "2024-05-30T11:16:30.978048Z",
     "shell.execute_reply": "2024-05-30T11:16:30.977236Z"
    },
    "papermill": {
     "duration": 0.049884,
     "end_time": "2024-05-30T11:16:30.979969",
     "exception": false,
     "start_time": "2024-05-30T11:16:30.930085",
     "status": "completed"
    },
    "tags": []
   },
   "outputs": [],
   "source": [
    "it = data.as_numpy_iterator()"
   ]
  },
  {
   "cell_type": "code",
   "execution_count": 24,
   "id": "2339bdad",
   "metadata": {
    "execution": {
     "iopub.execute_input": "2024-05-30T11:16:31.046695Z",
     "iopub.status.busy": "2024-05-30T11:16:31.046073Z",
     "iopub.status.idle": "2024-05-30T11:16:59.732219Z",
     "shell.execute_reply": "2024-05-30T11:16:59.019210Z"
    },
    "papermill": {
     "duration": 29.408679,
     "end_time": "2024-05-30T11:17:00.440366",
     "exception": false,
     "start_time": "2024-05-30T11:16:31.031687",
     "status": "completed"
    },
    "tags": []
   },
   "outputs": [
    {
     "data": {
      "text/plain": [
       "((8, 75, 46, 140, 1), (8, 40))"
      ]
     },
     "execution_count": 24,
     "metadata": {},
     "output_type": "execute_result"
    }
   ],
   "source": [
    "f, a = it.next()\n",
    "f.shape, a.shape"
   ]
  },
  {
   "cell_type": "markdown",
   "id": "02c4c18c",
   "metadata": {
    "papermill": {
     "duration": 0.013757,
     "end_time": "2024-05-30T11:17:00.468376",
     "exception": false,
     "start_time": "2024-05-30T11:17:00.454619",
     "status": "completed"
    },
    "tags": []
   },
   "source": [
    "# 4. Build Model"
   ]
  },
  {
   "cell_type": "code",
   "execution_count": 25,
   "id": "9b20435b",
   "metadata": {
    "execution": {
     "iopub.execute_input": "2024-05-30T11:17:01.160441Z",
     "iopub.status.busy": "2024-05-30T11:17:01.158742Z",
     "iopub.status.idle": "2024-05-30T11:17:02.615192Z",
     "shell.execute_reply": "2024-05-30T11:17:02.612801Z"
    },
    "papermill": {
     "duration": 2.137892,
     "end_time": "2024-05-30T11:17:02.619824",
     "exception": false,
     "start_time": "2024-05-30T11:17:00.481932",
     "status": "completed"
    },
    "tags": []
   },
   "outputs": [],
   "source": [
    "from tensorflow.keras.models import Sequential\n",
    "from tensorflow.keras.layers import (Conv3D, Dense, LSTM, Bidirectional, Dropout, \n",
    "                                     MaxPool3D, Activation, Reshape, SpatialDropout3D, \n",
    "                                     BatchNormalization, TimeDistributed, Flatten, Input)\n",
    "from tensorflow.keras.optimizers import Adam\n",
    "from tensorflow.keras.callbacks import LearningRateScheduler, ModelCheckpoint"
   ]
  },
  {
   "cell_type": "markdown",
   "id": "ca9835e1",
   "metadata": {},
   "source": [
    "#### **Snippet for connecting to Kaggle TPU**"
   ]
  },
  {
   "cell_type": "code",
   "execution_count": 26,
   "id": "90a3d432",
   "metadata": {
    "execution": {
     "iopub.execute_input": "2024-05-30T11:17:03.370701Z",
     "iopub.status.busy": "2024-05-30T11:17:03.370322Z",
     "iopub.status.idle": "2024-05-30T11:17:04.805598Z",
     "shell.execute_reply": "2024-05-30T11:17:04.803713Z"
    },
    "papermill": {
     "duration": 2.159853,
     "end_time": "2024-05-30T11:17:04.808958",
     "exception": false,
     "start_time": "2024-05-30T11:17:02.649105",
     "status": "completed"
    },
    "tags": []
   },
   "outputs": [],
   "source": [
    "# print(\"Tensorflow version \" + tf.__version__)\n",
    "# AUTO = tf.data.experimental.AUTOTUNE\n",
    "\n",
    "# # Detect TPU, return appropriate distribution strategy\n",
    "# try:\n",
    "#     tpu = tf.distribute.cluster_resolver.TPUClusterResolver() \n",
    "#     print('Running on TPU ', tpu.master())\n",
    "# except ValueError:\n",
    "#     tpu = None\n",
    "\n",
    "# if tpu:\n",
    "#     tf.config.experimental_connect_to_cluster(tpu)\n",
    "#     tf.tpu.experimental.initialize_tpu_system(tpu)\n",
    "#     strategy = tf.distribute.experimental.TPUStrategy(tpu)\n",
    "# else:\n",
    "#     strategy = tf.distribute.get_strategy() \n",
    "\n",
    "# print(\"REPLICAS: \", strategy.num_replicas_in_sync)"
   ]
  },
  {
   "cell_type": "markdown",
   "id": "fa04284f",
   "metadata": {},
   "source": [
    "## **CTC Loss Function [CONNECTIONIST TEMPORAL CLASSIFICATION]**"
   ]
  },
  {
   "cell_type": "code",
   "execution_count": 27,
   "id": "952958fc",
   "metadata": {
    "execution": {
     "iopub.execute_input": "2024-05-30T11:17:05.510289Z",
     "iopub.status.busy": "2024-05-30T11:17:05.509123Z",
     "iopub.status.idle": "2024-05-30T11:17:05.520925Z",
     "shell.execute_reply": "2024-05-30T11:17:05.519689Z"
    },
    "papermill": {
     "duration": 0.704067,
     "end_time": "2024-05-30T11:17:05.528156",
     "exception": false,
     "start_time": "2024-05-30T11:17:04.824089",
     "status": "completed"
    },
    "tags": []
   },
   "outputs": [],
   "source": [
    "def CTCLoss(y_true, y_pred):\n",
    "    batch_size = tf.cast(tf.shape(y_true)[0], tf.int64)\n",
    "    input_len = tf.cast(tf.shape(y_pred)[1], tf.int64)\n",
    "    label_len = tf.cast(tf.shape(y_true)[1], tf.int64)\n",
    "    \n",
    "    input_len = input_len * tf.ones(shape=(batch_size, 1), dtype = tf.int64)\n",
    "    label_len = label_len * tf.ones(shape=(batch_size, 1), dtype = tf.int64)\n",
    "    loss = tf.keras.backend.ctc_batch_cost(y_true, y_pred, input_len, label_len) \n",
    "    # deprecated, need to find the new method now\n",
    "    return loss"
   ]
  },
  {
   "cell_type": "markdown",
   "id": "067f4fa7",
   "metadata": {},
   "source": [
    "#### **Snippet for connecting to Kaggle Multiple GPU**"
   ]
  },
  {
   "cell_type": "code",
   "execution_count": 28,
   "id": "a99e3a65",
   "metadata": {
    "execution": {
     "iopub.execute_input": "2024-05-30T11:17:06.951760Z",
     "iopub.status.busy": "2024-05-30T11:17:06.951331Z",
     "iopub.status.idle": "2024-05-30T11:17:08.465339Z",
     "shell.execute_reply": "2024-05-30T11:17:08.456538Z"
    },
    "papermill": {
     "duration": 2.9244,
     "end_time": "2024-05-30T11:17:08.471898",
     "exception": false,
     "start_time": "2024-05-30T11:17:05.547498",
     "status": "completed"
    },
    "tags": []
   },
   "outputs": [],
   "source": [
    "strategy = tf.distribute.MirroredStrategy([\"GPU:0\", \"GPU:1\"])"
   ]
  },
  {
   "cell_type": "markdown",
   "id": "67529d70",
   "metadata": {
    "papermill": {
     "duration": 0.022521,
     "end_time": "2024-05-30T11:17:08.544708",
     "exception": false,
     "start_time": "2024-05-30T11:17:08.522187",
     "status": "completed"
    },
    "tags": []
   },
   "source": [
    "# Define Model for Initial Training"
   ]
  },
  {
   "cell_type": "code",
   "execution_count": 29,
   "id": "88e3f2a8",
   "metadata": {
    "execution": {
     "iopub.execute_input": "2024-05-30T11:17:09.295029Z",
     "iopub.status.busy": "2024-05-30T11:17:09.294605Z",
     "iopub.status.idle": "2024-05-30T11:17:10.707847Z",
     "shell.execute_reply": "2024-05-30T11:17:09.302584Z"
    },
    "papermill": {
     "duration": 2.14912,
     "end_time": "2024-05-30T11:17:10.711045",
     "exception": false,
     "start_time": "2024-05-30T11:17:08.561925",
     "status": "completed"
    },
    "tags": []
   },
   "outputs": [],
   "source": [
    "# with strategy.scope():\n",
    "#     model = Sequential()\n",
    "#     model.add(Input(shape=(75, 46, 140, 1)))\n",
    "#     model.add(Conv3D(128, kernel_size=3, padding='same', activation='relu'))\n",
    "#     model.add(MaxPool3D(pool_size=(1,2,2)))\n",
    "\n",
    "#     model.add(Conv3D(256, kernel_size=3, padding='same', activation='relu'))\n",
    "#     model.add(MaxPool3D(pool_size=(1,2,2)))\n",
    "\n",
    "#     model.add(Conv3D(64, kernel_size=3, padding='same', activation='relu'))\n",
    "#     model.add(MaxPool3D(pool_size=(1,2,2)))\n",
    "\n",
    "#     model.add(Reshape([75, 5440]))\n",
    "\n",
    "#     model.add(Bidirectional(LSTM(256, return_sequences=True)))\n",
    "#     model.add(Dropout(0.5))\n",
    "\n",
    "\n",
    "#     model.add(Bidirectional(LSTM(256, return_sequences=True)))\n",
    "#     model.add(Dropout(0.5))\n",
    "    \n",
    "#     model.add(Bidirectional(LSTM(256, return_sequences=True)))\n",
    "#     model.add(Dropout(0.5))\n",
    "    \n",
    "#     model.add(Dense(512, activation='relu', kernel_initializer='he_normal'))\n",
    "#     model.add(Dense(512, activation='relu', kernel_initializer='he_normal'))\n",
    "#     model.add(Dense(char_to_num.vocabulary_size()+1, activation='softmax', kernel_initializer='he_normal'))\n",
    "\n",
    "#     model.summary()\n",
    "#     model.compile(optimizer=Adam(0.0001), loss=CTCLoss)"
   ]
  },
  {
   "cell_type": "markdown",
   "id": "58992971",
   "metadata": {
    "papermill": {
     "duration": 0.014417,
     "end_time": "2024-05-30T11:17:10.744281",
     "exception": false,
     "start_time": "2024-05-30T11:17:10.729864",
     "status": "completed"
    },
    "tags": []
   },
   "source": [
    "# Loading A Checkpoint Model"
   ]
  },
  {
   "cell_type": "code",
   "execution_count": 30,
   "id": "8c78d962",
   "metadata": {
    "execution": {
     "iopub.execute_input": "2024-05-30T11:17:11.421179Z",
     "iopub.status.busy": "2024-05-30T11:17:11.420844Z",
     "iopub.status.idle": "2024-05-30T11:18:38.511450Z",
     "shell.execute_reply": "2024-05-30T11:18:38.510205Z"
    },
    "papermill": {
     "duration": 87.756354,
     "end_time": "2024-05-30T11:18:38.514725",
     "exception": false,
     "start_time": "2024-05-30T11:17:10.758371",
     "status": "completed"
    },
    "tags": []
   },
   "outputs": [
    {
     "name": "stdout",
     "output_type": "stream",
     "text": [
      "Model: \"sequential\"\n",
      "_________________________________________________________________\n",
      " Layer (type)                Output Shape              Param #   \n",
      "=================================================================\n",
      " conv3d (Conv3D)             (None, 75, 46, 140, 128   3584      \n",
      "                             )                                   \n",
      "                                                                 \n",
      " max_pooling3d (MaxPooling3  (None, 75, 23, 70, 128)   0         \n",
      " D)                                                              \n",
      "                                                                 \n",
      " conv3d_1 (Conv3D)           (None, 75, 23, 70, 256)   884992    \n",
      "                                                                 \n",
      " max_pooling3d_1 (MaxPoolin  (None, 75, 11, 35, 256)   0         \n",
      " g3D)                                                            \n",
      "                                                                 \n",
      " conv3d_2 (Conv3D)           (None, 75, 11, 35, 64)    442432    \n",
      "                                                                 \n",
      " max_pooling3d_2 (MaxPoolin  (None, 75, 5, 17, 64)     0         \n",
      " g3D)                                                            \n",
      "                                                                 \n",
      " reshape (Reshape)           (None, 75, 5440)          0         \n",
      "                                                                 \n",
      " bidirectional (Bidirection  (None, 75, 512)           11667456  \n",
      " al)                                                             \n",
      "                                                                 \n",
      " dropout (Dropout)           (None, 75, 512)           0         \n",
      "                                                                 \n",
      " bidirectional_1 (Bidirecti  (None, 75, 512)           1574912   \n",
      " onal)                                                           \n",
      "                                                                 \n",
      " dropout_1 (Dropout)         (None, 75, 512)           0         \n",
      "                                                                 \n",
      " bidirectional_2 (Bidirecti  (None, 75, 512)           1574912   \n",
      " onal)                                                           \n",
      "                                                                 \n",
      " dropout_2 (Dropout)         (None, 75, 512)           0         \n",
      "                                                                 \n",
      " dense (Dense)               (None, 75, 512)           262656    \n",
      "                                                                 \n",
      " dense_1 (Dense)             (None, 75, 512)           262656    \n",
      "                                                                 \n",
      " dense_2 (Dense)             (None, 75, 32)            16416     \n",
      "                                                                 \n",
      "=================================================================\n",
      "Total params: 16690016 (63.67 MB)\n",
      "Trainable params: 16690016 (63.67 MB)\n",
      "Non-trainable params: 0 (0.00 Byte)\n",
      "_________________________________________________________________\n"
     ]
    }
   ],
   "source": [
    "with strategy.scope():\n",
    "    model = tf.keras.models.load_model(\"/kaggle/input/lip-net-custom/tensorflow2/initial-checkpoint-226-epoch/1/model.keras\", compile=False)\n",
    "    model.summary()\n",
    "    model.compile(optimizer=tf.keras.optimizers.Adam(0.0001), loss=CTCLoss)"
   ]
  },
  {
   "cell_type": "markdown",
   "id": "ad1022f6",
   "metadata": {
    "papermill": {
     "duration": 0.018041,
     "end_time": "2024-05-30T11:18:50.062035",
     "exception": false,
     "start_time": "2024-05-30T11:18:50.043994",
     "status": "completed"
    },
    "tags": []
   },
   "source": [
    "# 5. Setup Training Module"
   ]
  },
  {
   "cell_type": "code",
   "execution_count": 34,
   "id": "dd8ca296",
   "metadata": {
    "execution": {
     "iopub.execute_input": "2024-05-30T11:18:50.099532Z",
     "iopub.status.busy": "2024-05-30T11:18:50.099222Z",
     "iopub.status.idle": "2024-05-30T11:18:50.103532Z",
     "shell.execute_reply": "2024-05-30T11:18:50.102718Z"
    },
    "papermill": {
     "duration": 0.025246,
     "end_time": "2024-05-30T11:18:50.105393",
     "exception": false,
     "start_time": "2024-05-30T11:18:50.080147",
     "status": "completed"
    },
    "tags": []
   },
   "outputs": [],
   "source": [
    "def schedular(epoch, lr):\n",
    "    if epoch<50:\n",
    "        return lr\n",
    "    else:\n",
    "        return lr * tf.math.exp(-0.1)"
   ]
  },
  {
   "cell_type": "code",
   "execution_count": 35,
   "id": "cd5bac1e",
   "metadata": {
    "execution": {
     "iopub.execute_input": "2024-05-30T11:18:50.142806Z",
     "iopub.status.busy": "2024-05-30T11:18:50.142543Z",
     "iopub.status.idle": "2024-05-30T11:18:50.152180Z",
     "shell.execute_reply": "2024-05-30T11:18:50.151305Z"
    },
    "papermill": {
     "duration": 0.030564,
     "end_time": "2024-05-30T11:18:50.154084",
     "exception": false,
     "start_time": "2024-05-30T11:18:50.123520",
     "status": "completed"
    },
    "tags": []
   },
   "outputs": [],
   "source": [
    "class ProduceExample(tf.keras.callbacks.Callback): \n",
    "    def __init__(self, dataset) -> None: \n",
    "        self.dataset = dataset\n",
    "        self.it = self.dataset.as_numpy_iterator()\n",
    "    \n",
    "    def on_epoch_end(self, epoch, logs=None) -> None:\n",
    "        try:\n",
    "            data = self.it.next()\n",
    "            if data[0].shape[0]<8:\n",
    "                self.it = self.dataset.as_numpy_iterator()\n",
    "                data = self.it.next()\n",
    "        except Exception as e:\n",
    "            print(e)\n",
    "            self.it = self.dataset.as_numpy_iterator()\n",
    "            data = self.it.next()\n",
    "        yhat = model.predict(data[0], verbose=0)\n",
    "        decoded = tf.keras.backend.ctc_decode(yhat, [40]*8, greedy=True)[0][0].numpy()\n",
    "        for x in range(5):\n",
    "            print('Original:', tf.strings.reduce_join(num_to_char(data[1][x])).numpy().decode('utf-8'))\n",
    "            print('Prediction:', tf.strings.reduce_join(num_to_char(decoded[x])).numpy().decode('utf-8'))\n",
    "            print('~'*100)"
   ]
  },
  {
   "cell_type": "code",
   "execution_count": 36,
   "id": "057bcf50",
   "metadata": {
    "execution": {
     "iopub.execute_input": "2024-05-30T11:18:50.191420Z",
     "iopub.status.busy": "2024-05-30T11:18:50.191139Z",
     "iopub.status.idle": "2024-05-30T11:18:50.210771Z",
     "shell.execute_reply": "2024-05-30T11:18:50.209935Z"
    },
    "papermill": {
     "duration": 0.04041,
     "end_time": "2024-05-30T11:18:50.212596",
     "exception": false,
     "start_time": "2024-05-30T11:18:50.172186",
     "status": "completed"
    },
    "tags": []
   },
   "outputs": [],
   "source": [
    "callbacks = [\n",
    "    ModelCheckpoint(\"model-226-plus-20.keras\", monitor=\"val_loss\", save_best_only=True, verbose=1),\n",
    "    ModelCheckpoint(\"model-226-plus-20.h5\", monitor=\"val_loss\", save_best_only=True, verbose=1),\n",
    "    ModelCheckpoint(\"model-226-plus-20-loss.keras\", monitor=\"loss\", save_best_only=True, verbose=1),\n",
    "    ModelCheckpoint(\"model-226-plus-20-loss.h5\", monitor=\"loss\", save_best_only=True, verbosw=1),\n",
    "#     LearningRateScheduler(schedular),\n",
    "    ProduceExample(val),\n",
    "    ProduceExample(data)\n",
    "\n",
    "]"
   ]
  },
  {
   "cell_type": "code",
   "execution_count": 37,
   "id": "618057a0",
   "metadata": {
    "execution": {
     "iopub.execute_input": "2024-05-30T11:18:50.250855Z",
     "iopub.status.busy": "2024-05-30T11:18:50.250256Z",
     "iopub.status.idle": "2024-05-30T13:11:23.547099Z",
     "shell.execute_reply": "2024-05-30T13:11:23.545985Z"
    },
    "papermill": {
     "duration": 6753.523045,
     "end_time": "2024-05-30T13:11:23.753906",
     "exception": false,
     "start_time": "2024-05-30T11:18:50.230861",
     "status": "completed"
    },
    "tags": []
   },
   "outputs": [
    {
     "name": "stdout",
     "output_type": "stream",
     "text": [
      "Epoch 1/20\n"
     ]
    },
    {
     "name": "stderr",
     "output_type": "stream",
     "text": [
      "WARNING: All log messages before absl::InitializeLog() is called are written to STDERR\n",
      "I0000 00:00:1717068010.704363      80 device_compiler.h:186] Compiled cluster using XLA!  This line is logged at most once for the lifetime of the process.\n"
     ]
    },
    {
     "name": "stdout",
     "output_type": "stream",
     "text": [
      "  8/100 [=>............................] - ETA: 9:05 - loss: 11.7999"
     ]
    },
    {
     "name": "stderr",
     "output_type": "stream",
     "text": [
      "[mpeg1video @ 0x7c7a6002e280] ac-tex damaged at 22 17\n",
      "[mpeg1video @ 0x7c7a6002e280] Warning MVs not available\n"
     ]
    },
    {
     "name": "stdout",
     "output_type": "stream",
     "text": [
      "100/100 [==============================] - ETA: 0s - loss: 12.6582 \n",
      "Epoch 1: val_loss improved from inf to 9.45478, saving model to model-226-plus-20.keras\n",
      "\n",
      "Epoch 1: val_loss improved from inf to 9.45478, saving model to model-226-plus-20.h5\n"
     ]
    },
    {
     "name": "stderr",
     "output_type": "stream",
     "text": [
      "/opt/conda/lib/python3.10/site-packages/keras/src/engine/training.py:3103: UserWarning: You are saving your model as an HDF5 file via `model.save()`. This file format is considered legacy. We recommend using instead the native Keras format, e.g. `model.save('my_model.keras')`.\n",
      "  saving_api.save_model(\n"
     ]
    },
    {
     "name": "stdout",
     "output_type": "stream",
     "text": [
      "\n",
      "Epoch 1: loss improved from inf to 12.65823, saving model to model-226-plus-20-loss.keras\n",
      "Original: bin green by b two please\n",
      "Prediction: bin green by p twuo please\n",
      "~~~~~~~~~~~~~~~~~~~~~~~~~~~~~~~~~~~~~~~~~~~~~~~~~~~~~~~~~~~~~~~~~~~~~~~~~~~~~~~~~~~~~~~~~~~~~~~~~~~~\n",
      "Original: lay blue in q three again\n",
      "Prediction: lay blue ith r three again\n",
      "~~~~~~~~~~~~~~~~~~~~~~~~~~~~~~~~~~~~~~~~~~~~~~~~~~~~~~~~~~~~~~~~~~~~~~~~~~~~~~~~~~~~~~~~~~~~~~~~~~~~\n",
      "Original: lay red with z sp two now\n",
      "Prediction: lay red with h fouro now\n",
      "~~~~~~~~~~~~~~~~~~~~~~~~~~~~~~~~~~~~~~~~~~~~~~~~~~~~~~~~~~~~~~~~~~~~~~~~~~~~~~~~~~~~~~~~~~~~~~~~~~~~\n",
      "Original: set green at p three again\n",
      "Prediction: set green in i thre again\n",
      "~~~~~~~~~~~~~~~~~~~~~~~~~~~~~~~~~~~~~~~~~~~~~~~~~~~~~~~~~~~~~~~~~~~~~~~~~~~~~~~~~~~~~~~~~~~~~~~~~~~~\n",
      "Original: lay green with m nine again\n",
      "Prediction: lay green with j one again\n",
      "~~~~~~~~~~~~~~~~~~~~~~~~~~~~~~~~~~~~~~~~~~~~~~~~~~~~~~~~~~~~~~~~~~~~~~~~~~~~~~~~~~~~~~~~~~~~~~~~~~~~\n",
      "Original: lay white with f eight please\n",
      "Prediction: lay white with r eight please\n",
      "~~~~~~~~~~~~~~~~~~~~~~~~~~~~~~~~~~~~~~~~~~~~~~~~~~~~~~~~~~~~~~~~~~~~~~~~~~~~~~~~~~~~~~~~~~~~~~~~~~~~\n",
      "Original: bin red by m seven soon\n",
      "Prediction: bin red by p siven soon\n",
      "~~~~~~~~~~~~~~~~~~~~~~~~~~~~~~~~~~~~~~~~~~~~~~~~~~~~~~~~~~~~~~~~~~~~~~~~~~~~~~~~~~~~~~~~~~~~~~~~~~~~\n",
      "Original: bin blue in z sp two please\n",
      "Prediction: bin blue ith two please\n",
      "~~~~~~~~~~~~~~~~~~~~~~~~~~~~~~~~~~~~~~~~~~~~~~~~~~~~~~~~~~~~~~~~~~~~~~~~~~~~~~~~~~~~~~~~~~~~~~~~~~~~\n",
      "Original: place red by d zero now\n",
      "Prediction: place red by p zero now\n",
      "~~~~~~~~~~~~~~~~~~~~~~~~~~~~~~~~~~~~~~~~~~~~~~~~~~~~~~~~~~~~~~~~~~~~~~~~~~~~~~~~~~~~~~~~~~~~~~~~~~~~\n",
      "Original: set white at u eight now\n",
      "Prediction: set white in r sigx now\n",
      "~~~~~~~~~~~~~~~~~~~~~~~~~~~~~~~~~~~~~~~~~~~~~~~~~~~~~~~~~~~~~~~~~~~~~~~~~~~~~~~~~~~~~~~~~~~~~~~~~~~~\n",
      "100/100 [==============================] - 3109s 30s/step - loss: 12.6582 - val_loss: 9.4548\n",
      "Epoch 2/20\n",
      "100/100 [==============================] - ETA: 0s - loss: 11.0276\n",
      "Epoch 2: val_loss improved from 9.45478 to 9.29712, saving model to model-226-plus-20.keras\n",
      "\n",
      "Epoch 2: val_loss improved from 9.45478 to 9.29712, saving model to model-226-plus-20.h5\n",
      "\n",
      "Epoch 2: loss improved from 12.65823 to 11.02761, saving model to model-226-plus-20-loss.keras\n",
      "Original: place white in p nine again\n",
      "Prediction: place white in q none again\n",
      "~~~~~~~~~~~~~~~~~~~~~~~~~~~~~~~~~~~~~~~~~~~~~~~~~~~~~~~~~~~~~~~~~~~~~~~~~~~~~~~~~~~~~~~~~~~~~~~~~~~~\n",
      "Original: bin white with h five again\n",
      "Prediction: bin white with r five again\n",
      "~~~~~~~~~~~~~~~~~~~~~~~~~~~~~~~~~~~~~~~~~~~~~~~~~~~~~~~~~~~~~~~~~~~~~~~~~~~~~~~~~~~~~~~~~~~~~~~~~~~~\n",
      "Original: bin blue in l five again\n",
      "Prediction: bin blue it d five again\n",
      "~~~~~~~~~~~~~~~~~~~~~~~~~~~~~~~~~~~~~~~~~~~~~~~~~~~~~~~~~~~~~~~~~~~~~~~~~~~~~~~~~~~~~~~~~~~~~~~~~~~~\n",
      "Original: set blue with b five again\n",
      "Prediction: set blue with f five again\n",
      "~~~~~~~~~~~~~~~~~~~~~~~~~~~~~~~~~~~~~~~~~~~~~~~~~~~~~~~~~~~~~~~~~~~~~~~~~~~~~~~~~~~~~~~~~~~~~~~~~~~~\n",
      "Original: bin red at s six now\n",
      "Prediction: bin red in r six now\n",
      "~~~~~~~~~~~~~~~~~~~~~~~~~~~~~~~~~~~~~~~~~~~~~~~~~~~~~~~~~~~~~~~~~~~~~~~~~~~~~~~~~~~~~~~~~~~~~~~~~~~~\n",
      "Original: place white at d two now\n",
      "Prediction: place white it l twuo now\n",
      "~~~~~~~~~~~~~~~~~~~~~~~~~~~~~~~~~~~~~~~~~~~~~~~~~~~~~~~~~~~~~~~~~~~~~~~~~~~~~~~~~~~~~~~~~~~~~~~~~~~~\n",
      "Original: lay green in s zero please\n",
      "Prediction: lay green in r four please\n",
      "~~~~~~~~~~~~~~~~~~~~~~~~~~~~~~~~~~~~~~~~~~~~~~~~~~~~~~~~~~~~~~~~~~~~~~~~~~~~~~~~~~~~~~~~~~~~~~~~~~~~\n",
      "Original: set blue at h zero please\n",
      "Prediction: set blue in j zero please\n",
      "~~~~~~~~~~~~~~~~~~~~~~~~~~~~~~~~~~~~~~~~~~~~~~~~~~~~~~~~~~~~~~~~~~~~~~~~~~~~~~~~~~~~~~~~~~~~~~~~~~~~\n",
      "Original: place red by j seven again\n",
      "Prediction: place red by p fiven again\n",
      "~~~~~~~~~~~~~~~~~~~~~~~~~~~~~~~~~~~~~~~~~~~~~~~~~~~~~~~~~~~~~~~~~~~~~~~~~~~~~~~~~~~~~~~~~~~~~~~~~~~~\n",
      "Original: set red at u four please\n",
      "Prediction: set red with j twuo please\n",
      "~~~~~~~~~~~~~~~~~~~~~~~~~~~~~~~~~~~~~~~~~~~~~~~~~~~~~~~~~~~~~~~~~~~~~~~~~~~~~~~~~~~~~~~~~~~~~~~~~~~~\n",
      "100/100 [==============================] - 209s 2s/step - loss: 11.0276 - val_loss: 9.2971\n",
      "Epoch 3/20\n",
      "100/100 [==============================] - ETA: 0s - loss: 10.6941\n",
      "Epoch 3: val_loss did not improve from 9.29712\n",
      "\n",
      "Epoch 3: val_loss did not improve from 9.29712\n",
      "\n",
      "Epoch 3: loss improved from 11.02761 to 10.69411, saving model to model-226-plus-20-loss.keras\n",
      "Original: lay white with m two please\n",
      "Prediction: lay white with j fwuo pleas\n",
      "~~~~~~~~~~~~~~~~~~~~~~~~~~~~~~~~~~~~~~~~~~~~~~~~~~~~~~~~~~~~~~~~~~~~~~~~~~~~~~~~~~~~~~~~~~~~~~~~~~~~\n",
      "Original: place red in p one soon\n",
      "Prediction: place red it o one soon\n",
      "~~~~~~~~~~~~~~~~~~~~~~~~~~~~~~~~~~~~~~~~~~~~~~~~~~~~~~~~~~~~~~~~~~~~~~~~~~~~~~~~~~~~~~~~~~~~~~~~~~~~\n",
      "Original: bin green by h seven again\n",
      "Prediction: bin green by p five again\n",
      "~~~~~~~~~~~~~~~~~~~~~~~~~~~~~~~~~~~~~~~~~~~~~~~~~~~~~~~~~~~~~~~~~~~~~~~~~~~~~~~~~~~~~~~~~~~~~~~~~~~~\n",
      "Original: lay red at e four please\n",
      "Prediction: lay red an k zouro please\n",
      "~~~~~~~~~~~~~~~~~~~~~~~~~~~~~~~~~~~~~~~~~~~~~~~~~~~~~~~~~~~~~~~~~~~~~~~~~~~~~~~~~~~~~~~~~~~~~~~~~~~~\n",
      "Original: bin green in g nine again\n",
      "Prediction: bin green in p nive again\n",
      "~~~~~~~~~~~~~~~~~~~~~~~~~~~~~~~~~~~~~~~~~~~~~~~~~~~~~~~~~~~~~~~~~~~~~~~~~~~~~~~~~~~~~~~~~~~~~~~~~~~~\n",
      "Original: set blue in t two now\n",
      "Prediction: set blue ith j two now\n",
      "~~~~~~~~~~~~~~~~~~~~~~~~~~~~~~~~~~~~~~~~~~~~~~~~~~~~~~~~~~~~~~~~~~~~~~~~~~~~~~~~~~~~~~~~~~~~~~~~~~~~\n",
      "Original: set green at v four now\n",
      "Prediction: set green in r four now\n",
      "~~~~~~~~~~~~~~~~~~~~~~~~~~~~~~~~~~~~~~~~~~~~~~~~~~~~~~~~~~~~~~~~~~~~~~~~~~~~~~~~~~~~~~~~~~~~~~~~~~~~\n",
      "Original: place red in i nine again\n",
      "Prediction: place red in k fine again\n",
      "~~~~~~~~~~~~~~~~~~~~~~~~~~~~~~~~~~~~~~~~~~~~~~~~~~~~~~~~~~~~~~~~~~~~~~~~~~~~~~~~~~~~~~~~~~~~~~~~~~~~\n",
      "Original: bin green with i zero please\n",
      "Prediction: bin green win r zwuo please\n",
      "~~~~~~~~~~~~~~~~~~~~~~~~~~~~~~~~~~~~~~~~~~~~~~~~~~~~~~~~~~~~~~~~~~~~~~~~~~~~~~~~~~~~~~~~~~~~~~~~~~~~\n",
      "Original: place blue by v eight please\n",
      "Prediction: place blue by p eight please\n",
      "~~~~~~~~~~~~~~~~~~~~~~~~~~~~~~~~~~~~~~~~~~~~~~~~~~~~~~~~~~~~~~~~~~~~~~~~~~~~~~~~~~~~~~~~~~~~~~~~~~~~\n",
      "100/100 [==============================] - 187s 2s/step - loss: 10.6941 - val_loss: 9.7364\n",
      "Epoch 4/20\n",
      "100/100 [==============================] - ETA: 0s - loss: 9.9641\n",
      "Epoch 4: val_loss improved from 9.29712 to 9.22529, saving model to model-226-plus-20.keras\n",
      "\n",
      "Epoch 4: val_loss improved from 9.29712 to 9.22529, saving model to model-226-plus-20.h5\n",
      "\n",
      "Epoch 4: loss improved from 10.69411 to 9.96412, saving model to model-226-plus-20-loss.keras\n",
      "Original: lay red with r nine soon\n",
      "Prediction: lay red with o nine soon\n",
      "~~~~~~~~~~~~~~~~~~~~~~~~~~~~~~~~~~~~~~~~~~~~~~~~~~~~~~~~~~~~~~~~~~~~~~~~~~~~~~~~~~~~~~~~~~~~~~~~~~~~\n",
      "Original: bin blue at l eight please\n",
      "Prediction: bin blue bt h eght please\n",
      "~~~~~~~~~~~~~~~~~~~~~~~~~~~~~~~~~~~~~~~~~~~~~~~~~~~~~~~~~~~~~~~~~~~~~~~~~~~~~~~~~~~~~~~~~~~~~~~~~~~~\n",
      "Original: bin red at g one again\n",
      "Prediction: bin red in b one again\n",
      "~~~~~~~~~~~~~~~~~~~~~~~~~~~~~~~~~~~~~~~~~~~~~~~~~~~~~~~~~~~~~~~~~~~~~~~~~~~~~~~~~~~~~~~~~~~~~~~~~~~~\n",
      "Original: bin green at t nine soon\n",
      "Prediction: bin green in k nine soon\n",
      "~~~~~~~~~~~~~~~~~~~~~~~~~~~~~~~~~~~~~~~~~~~~~~~~~~~~~~~~~~~~~~~~~~~~~~~~~~~~~~~~~~~~~~~~~~~~~~~~~~~~\n",
      "Original: place red in v four now\n",
      "Prediction: place red in r four now\n",
      "~~~~~~~~~~~~~~~~~~~~~~~~~~~~~~~~~~~~~~~~~~~~~~~~~~~~~~~~~~~~~~~~~~~~~~~~~~~~~~~~~~~~~~~~~~~~~~~~~~~~\n",
      "Original: lay red in q nine again\n",
      "Prediction: lay red in k fine again\n",
      "~~~~~~~~~~~~~~~~~~~~~~~~~~~~~~~~~~~~~~~~~~~~~~~~~~~~~~~~~~~~~~~~~~~~~~~~~~~~~~~~~~~~~~~~~~~~~~~~~~~~\n",
      "Original: set red at u five again\n",
      "Prediction: set red in f five again\n",
      "~~~~~~~~~~~~~~~~~~~~~~~~~~~~~~~~~~~~~~~~~~~~~~~~~~~~~~~~~~~~~~~~~~~~~~~~~~~~~~~~~~~~~~~~~~~~~~~~~~~~\n",
      "Original: bin red by t two please\n",
      "Prediction: bin red by h fouo please\n",
      "~~~~~~~~~~~~~~~~~~~~~~~~~~~~~~~~~~~~~~~~~~~~~~~~~~~~~~~~~~~~~~~~~~~~~~~~~~~~~~~~~~~~~~~~~~~~~~~~~~~~\n",
      "Original: bin green in a two now\n",
      "Prediction: bin green in v two now\n",
      "~~~~~~~~~~~~~~~~~~~~~~~~~~~~~~~~~~~~~~~~~~~~~~~~~~~~~~~~~~~~~~~~~~~~~~~~~~~~~~~~~~~~~~~~~~~~~~~~~~~~\n",
      "Original: place white by d nine again\n",
      "Prediction: place white by yp nine again\n",
      "~~~~~~~~~~~~~~~~~~~~~~~~~~~~~~~~~~~~~~~~~~~~~~~~~~~~~~~~~~~~~~~~~~~~~~~~~~~~~~~~~~~~~~~~~~~~~~~~~~~~\n",
      "100/100 [==============================] - 192s 2s/step - loss: 9.9641 - val_loss: 9.2253\n",
      "Epoch 5/20\n",
      "100/100 [==============================] - ETA: 0s - loss: 9.9453\n",
      "Epoch 5: val_loss did not improve from 9.22529\n",
      "\n",
      "Epoch 5: val_loss did not improve from 9.22529\n",
      "\n",
      "Epoch 5: loss improved from 9.96412 to 9.94528, saving model to model-226-plus-20-loss.keras\n",
      "Original: bin green at h two please\n",
      "Prediction: bin green an v two please\n",
      "~~~~~~~~~~~~~~~~~~~~~~~~~~~~~~~~~~~~~~~~~~~~~~~~~~~~~~~~~~~~~~~~~~~~~~~~~~~~~~~~~~~~~~~~~~~~~~~~~~~~\n",
      "Original: set white in b two now\n",
      "Prediction: set white bn v fwuo now\n",
      "~~~~~~~~~~~~~~~~~~~~~~~~~~~~~~~~~~~~~~~~~~~~~~~~~~~~~~~~~~~~~~~~~~~~~~~~~~~~~~~~~~~~~~~~~~~~~~~~~~~~\n",
      "Original: place white by y one again\n",
      "Prediction: place white by y one again\n",
      "~~~~~~~~~~~~~~~~~~~~~~~~~~~~~~~~~~~~~~~~~~~~~~~~~~~~~~~~~~~~~~~~~~~~~~~~~~~~~~~~~~~~~~~~~~~~~~~~~~~~\n",
      "Original: lay green with g three soon\n",
      "Prediction: lay green with r thre soon\n",
      "~~~~~~~~~~~~~~~~~~~~~~~~~~~~~~~~~~~~~~~~~~~~~~~~~~~~~~~~~~~~~~~~~~~~~~~~~~~~~~~~~~~~~~~~~~~~~~~~~~~~\n",
      "Original: bin red by g three soon\n",
      "Prediction: bin red by m three soon\n",
      "~~~~~~~~~~~~~~~~~~~~~~~~~~~~~~~~~~~~~~~~~~~~~~~~~~~~~~~~~~~~~~~~~~~~~~~~~~~~~~~~~~~~~~~~~~~~~~~~~~~~\n",
      "Original: set green at i seven soon\n",
      "Prediction: set green in q seven soon\n",
      "~~~~~~~~~~~~~~~~~~~~~~~~~~~~~~~~~~~~~~~~~~~~~~~~~~~~~~~~~~~~~~~~~~~~~~~~~~~~~~~~~~~~~~~~~~~~~~~~~~~~\n",
      "Original: bin red with t six please\n",
      "Prediction: bin red with r six please\n",
      "~~~~~~~~~~~~~~~~~~~~~~~~~~~~~~~~~~~~~~~~~~~~~~~~~~~~~~~~~~~~~~~~~~~~~~~~~~~~~~~~~~~~~~~~~~~~~~~~~~~~\n",
      "Original: place white in x one soon\n",
      "Prediction: place white in k oine soon\n",
      "~~~~~~~~~~~~~~~~~~~~~~~~~~~~~~~~~~~~~~~~~~~~~~~~~~~~~~~~~~~~~~~~~~~~~~~~~~~~~~~~~~~~~~~~~~~~~~~~~~~~\n",
      "Original: bin white by a four now\n",
      "Prediction: bin white by m four now\n",
      "~~~~~~~~~~~~~~~~~~~~~~~~~~~~~~~~~~~~~~~~~~~~~~~~~~~~~~~~~~~~~~~~~~~~~~~~~~~~~~~~~~~~~~~~~~~~~~~~~~~~\n",
      "Original: lay white in y seven soon\n",
      "Prediction: lay white in q seven soon\n",
      "~~~~~~~~~~~~~~~~~~~~~~~~~~~~~~~~~~~~~~~~~~~~~~~~~~~~~~~~~~~~~~~~~~~~~~~~~~~~~~~~~~~~~~~~~~~~~~~~~~~~\n",
      "100/100 [==============================] - 189s 2s/step - loss: 9.9453 - val_loss: 9.5900\n",
      "Epoch 6/20\n",
      "100/100 [==============================] - ETA: 0s - loss: 9.5766\n",
      "Epoch 6: val_loss did not improve from 9.22529\n",
      "\n",
      "Epoch 6: val_loss did not improve from 9.22529\n",
      "\n",
      "Epoch 6: loss improved from 9.94528 to 9.57664, saving model to model-226-plus-20-loss.keras\n",
      "Original: place blue in o four now\n",
      "Prediction: place blue with j four now\n",
      "~~~~~~~~~~~~~~~~~~~~~~~~~~~~~~~~~~~~~~~~~~~~~~~~~~~~~~~~~~~~~~~~~~~~~~~~~~~~~~~~~~~~~~~~~~~~~~~~~~~~\n",
      "Original: place white at d three soon\n",
      "Prediction: place white in r ohne soon\n",
      "~~~~~~~~~~~~~~~~~~~~~~~~~~~~~~~~~~~~~~~~~~~~~~~~~~~~~~~~~~~~~~~~~~~~~~~~~~~~~~~~~~~~~~~~~~~~~~~~~~~~\n",
      "Original: set green in v one soon\n",
      "Prediction: set green in o one soon\n",
      "~~~~~~~~~~~~~~~~~~~~~~~~~~~~~~~~~~~~~~~~~~~~~~~~~~~~~~~~~~~~~~~~~~~~~~~~~~~~~~~~~~~~~~~~~~~~~~~~~~~~\n",
      "Original: lay blue by e two please\n",
      "Prediction: lay blue by p two please\n",
      "~~~~~~~~~~~~~~~~~~~~~~~~~~~~~~~~~~~~~~~~~~~~~~~~~~~~~~~~~~~~~~~~~~~~~~~~~~~~~~~~~~~~~~~~~~~~~~~~~~~~\n",
      "Original: place green at k three soon\n",
      "Prediction: place green in r three soon\n",
      "~~~~~~~~~~~~~~~~~~~~~~~~~~~~~~~~~~~~~~~~~~~~~~~~~~~~~~~~~~~~~~~~~~~~~~~~~~~~~~~~~~~~~~~~~~~~~~~~~~~~\n",
      "Original: lay red by e seven soon\n",
      "Prediction: lay red by k seven soon\n",
      "~~~~~~~~~~~~~~~~~~~~~~~~~~~~~~~~~~~~~~~~~~~~~~~~~~~~~~~~~~~~~~~~~~~~~~~~~~~~~~~~~~~~~~~~~~~~~~~~~~~~\n",
      "Original: lay white at l four please\n",
      "Prediction: lay white in v four please\n",
      "~~~~~~~~~~~~~~~~~~~~~~~~~~~~~~~~~~~~~~~~~~~~~~~~~~~~~~~~~~~~~~~~~~~~~~~~~~~~~~~~~~~~~~~~~~~~~~~~~~~~\n",
      "Original: place green with e eight please\n",
      "Prediction: place green with e eight please\n",
      "~~~~~~~~~~~~~~~~~~~~~~~~~~~~~~~~~~~~~~~~~~~~~~~~~~~~~~~~~~~~~~~~~~~~~~~~~~~~~~~~~~~~~~~~~~~~~~~~~~~~\n",
      "Original: set blue with o one soon\n",
      "Prediction: set blue with r one soon\n",
      "~~~~~~~~~~~~~~~~~~~~~~~~~~~~~~~~~~~~~~~~~~~~~~~~~~~~~~~~~~~~~~~~~~~~~~~~~~~~~~~~~~~~~~~~~~~~~~~~~~~~\n",
      "Original: set red in h zero now\n",
      "Prediction: set red in r zero now\n",
      "~~~~~~~~~~~~~~~~~~~~~~~~~~~~~~~~~~~~~~~~~~~~~~~~~~~~~~~~~~~~~~~~~~~~~~~~~~~~~~~~~~~~~~~~~~~~~~~~~~~~\n",
      "100/100 [==============================] - 190s 2s/step - loss: 9.5766 - val_loss: 9.5725\n",
      "Epoch 7/20\n",
      "100/100 [==============================] - ETA: 0s - loss: 8.7328\n",
      "Epoch 7: val_loss did not improve from 9.22529\n",
      "\n",
      "Epoch 7: val_loss did not improve from 9.22529\n",
      "\n",
      "Epoch 7: loss improved from 9.57664 to 8.73284, saving model to model-226-plus-20-loss.keras\n",
      "Original: bin red by a one again\n",
      "Prediction: bin red by b one again\n",
      "~~~~~~~~~~~~~~~~~~~~~~~~~~~~~~~~~~~~~~~~~~~~~~~~~~~~~~~~~~~~~~~~~~~~~~~~~~~~~~~~~~~~~~~~~~~~~~~~~~~~\n",
      "Original: place green in j eight now\n",
      "Prediction: place green win r eight now\n",
      "~~~~~~~~~~~~~~~~~~~~~~~~~~~~~~~~~~~~~~~~~~~~~~~~~~~~~~~~~~~~~~~~~~~~~~~~~~~~~~~~~~~~~~~~~~~~~~~~~~~~\n",
      "Original: lay red in y one soon\n",
      "Prediction: lay red it r one soon\n",
      "~~~~~~~~~~~~~~~~~~~~~~~~~~~~~~~~~~~~~~~~~~~~~~~~~~~~~~~~~~~~~~~~~~~~~~~~~~~~~~~~~~~~~~~~~~~~~~~~~~~~\n",
      "Original: set blue with u four now\n",
      "Prediction: set blue with r zeur now\n",
      "~~~~~~~~~~~~~~~~~~~~~~~~~~~~~~~~~~~~~~~~~~~~~~~~~~~~~~~~~~~~~~~~~~~~~~~~~~~~~~~~~~~~~~~~~~~~~~~~~~~~\n",
      "Original: place white with y three soon\n",
      "Prediction: place white with r threee so\n",
      "~~~~~~~~~~~~~~~~~~~~~~~~~~~~~~~~~~~~~~~~~~~~~~~~~~~~~~~~~~~~~~~~~~~~~~~~~~~~~~~~~~~~~~~~~~~~~~~~~~~~\n",
      "Original: lay green at l eight now\n",
      "Prediction: lay green in d eight now\n",
      "~~~~~~~~~~~~~~~~~~~~~~~~~~~~~~~~~~~~~~~~~~~~~~~~~~~~~~~~~~~~~~~~~~~~~~~~~~~~~~~~~~~~~~~~~~~~~~~~~~~~\n",
      "Original: bin green by h four now\n",
      "Prediction: bin green by p four now\n",
      "~~~~~~~~~~~~~~~~~~~~~~~~~~~~~~~~~~~~~~~~~~~~~~~~~~~~~~~~~~~~~~~~~~~~~~~~~~~~~~~~~~~~~~~~~~~~~~~~~~~~\n",
      "Original: lay blue in x five soon\n",
      "Prediction: set blue it r nine soown\n",
      "~~~~~~~~~~~~~~~~~~~~~~~~~~~~~~~~~~~~~~~~~~~~~~~~~~~~~~~~~~~~~~~~~~~~~~~~~~~~~~~~~~~~~~~~~~~~~~~~~~~~\n",
      "Original: set white in b four please\n",
      "Prediction: set white in g four please\n",
      "~~~~~~~~~~~~~~~~~~~~~~~~~~~~~~~~~~~~~~~~~~~~~~~~~~~~~~~~~~~~~~~~~~~~~~~~~~~~~~~~~~~~~~~~~~~~~~~~~~~~\n",
      "Original: place green by e five again\n",
      "Prediction: place green by k five again\n",
      "~~~~~~~~~~~~~~~~~~~~~~~~~~~~~~~~~~~~~~~~~~~~~~~~~~~~~~~~~~~~~~~~~~~~~~~~~~~~~~~~~~~~~~~~~~~~~~~~~~~~\n",
      "100/100 [==============================] - 189s 2s/step - loss: 8.7328 - val_loss: 9.4875\n",
      "Epoch 8/20\n",
      "100/100 [==============================] - ETA: 0s - loss: 11.8196\n",
      "Epoch 8: val_loss did not improve from 9.22529\n",
      "\n",
      "Epoch 8: val_loss did not improve from 9.22529\n",
      "\n",
      "Epoch 8: loss did not improve from 8.73284\n",
      "Original: set green by p five soon\n",
      "Prediction: set green by m five soon\n",
      "~~~~~~~~~~~~~~~~~~~~~~~~~~~~~~~~~~~~~~~~~~~~~~~~~~~~~~~~~~~~~~~~~~~~~~~~~~~~~~~~~~~~~~~~~~~~~~~~~~~~\n",
      "Original: set red with i three soon\n",
      "Prediction: set red with r thre soo\n",
      "~~~~~~~~~~~~~~~~~~~~~~~~~~~~~~~~~~~~~~~~~~~~~~~~~~~~~~~~~~~~~~~~~~~~~~~~~~~~~~~~~~~~~~~~~~~~~~~~~~~~\n",
      "Original: set green with d zero now\n",
      "Prediction: set green with g zero now\n",
      "~~~~~~~~~~~~~~~~~~~~~~~~~~~~~~~~~~~~~~~~~~~~~~~~~~~~~~~~~~~~~~~~~~~~~~~~~~~~~~~~~~~~~~~~~~~~~~~~~~~~\n",
      "Original: set red by o four please\n",
      "Prediction: set red by p four please\n",
      "~~~~~~~~~~~~~~~~~~~~~~~~~~~~~~~~~~~~~~~~~~~~~~~~~~~~~~~~~~~~~~~~~~~~~~~~~~~~~~~~~~~~~~~~~~~~~~~~~~~~\n",
      "Original: place white by d eight please\n",
      "Prediction: place white by r eightplease\n",
      "~~~~~~~~~~~~~~~~~~~~~~~~~~~~~~~~~~~~~~~~~~~~~~~~~~~~~~~~~~~~~~~~~~~~~~~~~~~~~~~~~~~~~~~~~~~~~~~~~~~~\n",
      "Original: set blue at a seven again\n",
      "Prediction: set blue in s seven agai\n",
      "~~~~~~~~~~~~~~~~~~~~~~~~~~~~~~~~~~~~~~~~~~~~~~~~~~~~~~~~~~~~~~~~~~~~~~~~~~~~~~~~~~~~~~~~~~~~~~~~~~~~\n",
      "Original: bin white at n one again\n",
      "Prediction: bin white ith b one again\n",
      "~~~~~~~~~~~~~~~~~~~~~~~~~~~~~~~~~~~~~~~~~~~~~~~~~~~~~~~~~~~~~~~~~~~~~~~~~~~~~~~~~~~~~~~~~~~~~~~~~~~~\n",
      "Original: set blue by a eight now\n",
      "Prediction: set blue by e eight now\n",
      "~~~~~~~~~~~~~~~~~~~~~~~~~~~~~~~~~~~~~~~~~~~~~~~~~~~~~~~~~~~~~~~~~~~~~~~~~~~~~~~~~~~~~~~~~~~~~~~~~~~~\n",
      "Original: bin blue by f eight please\n",
      "Prediction: bin blue by j sixht please\n",
      "~~~~~~~~~~~~~~~~~~~~~~~~~~~~~~~~~~~~~~~~~~~~~~~~~~~~~~~~~~~~~~~~~~~~~~~~~~~~~~~~~~~~~~~~~~~~~~~~~~~~\n",
      "Original: bin blue with s eight now\n",
      "Prediction: bin blue with e eight now\n",
      "~~~~~~~~~~~~~~~~~~~~~~~~~~~~~~~~~~~~~~~~~~~~~~~~~~~~~~~~~~~~~~~~~~~~~~~~~~~~~~~~~~~~~~~~~~~~~~~~~~~~\n",
      "100/100 [==============================] - 186s 2s/step - loss: 11.8196 - val_loss: 11.8614\n",
      "Epoch 9/20\n",
      "100/100 [==============================] - ETA: 0s - loss: 10.0116\n",
      "Epoch 9: val_loss did not improve from 9.22529\n",
      "\n",
      "Epoch 9: val_loss did not improve from 9.22529\n",
      "\n",
      "Epoch 9: loss did not improve from 8.73284\n",
      "Original: place green in d five soon\n",
      "Prediction: place green in l five soon\n",
      "~~~~~~~~~~~~~~~~~~~~~~~~~~~~~~~~~~~~~~~~~~~~~~~~~~~~~~~~~~~~~~~~~~~~~~~~~~~~~~~~~~~~~~~~~~~~~~~~~~~~\n",
      "Original: place green with l two please\n",
      "Prediction: place green with j four pleas\n",
      "~~~~~~~~~~~~~~~~~~~~~~~~~~~~~~~~~~~~~~~~~~~~~~~~~~~~~~~~~~~~~~~~~~~~~~~~~~~~~~~~~~~~~~~~~~~~~~~~~~~~\n",
      "Original: bin green in n zero now\n",
      "Prediction: bin green in g zero now\n",
      "~~~~~~~~~~~~~~~~~~~~~~~~~~~~~~~~~~~~~~~~~~~~~~~~~~~~~~~~~~~~~~~~~~~~~~~~~~~~~~~~~~~~~~~~~~~~~~~~~~~~\n",
      "Original: bin white by t eight sp please\n",
      "Prediction: bin white it h sigh plea\n",
      "~~~~~~~~~~~~~~~~~~~~~~~~~~~~~~~~~~~~~~~~~~~~~~~~~~~~~~~~~~~~~~~~~~~~~~~~~~~~~~~~~~~~~~~~~~~~~~~~~~~~\n",
      "Original: place green by e four please\n",
      "Prediction: place gred in k two pleas\n",
      "~~~~~~~~~~~~~~~~~~~~~~~~~~~~~~~~~~~~~~~~~~~~~~~~~~~~~~~~~~~~~~~~~~~~~~~~~~~~~~~~~~~~~~~~~~~~~~~~~~~~\n",
      "Original: lay green with g four please\n",
      "Prediction: lay green with j fwur ple\n",
      "~~~~~~~~~~~~~~~~~~~~~~~~~~~~~~~~~~~~~~~~~~~~~~~~~~~~~~~~~~~~~~~~~~~~~~~~~~~~~~~~~~~~~~~~~~~~~~~~~~~~\n",
      "Original: set blue in t four please\n",
      "Prediction: set blue with p twuo please\n",
      "~~~~~~~~~~~~~~~~~~~~~~~~~~~~~~~~~~~~~~~~~~~~~~~~~~~~~~~~~~~~~~~~~~~~~~~~~~~~~~~~~~~~~~~~~~~~~~~~~~~~\n",
      "Original: lay red by r five soon\n",
      "Prediction: lay red by r five soon\n",
      "~~~~~~~~~~~~~~~~~~~~~~~~~~~~~~~~~~~~~~~~~~~~~~~~~~~~~~~~~~~~~~~~~~~~~~~~~~~~~~~~~~~~~~~~~~~~~~~~~~~~\n",
      "Original: bin red with a two now\n",
      "Prediction: bin red with r two now\n",
      "~~~~~~~~~~~~~~~~~~~~~~~~~~~~~~~~~~~~~~~~~~~~~~~~~~~~~~~~~~~~~~~~~~~~~~~~~~~~~~~~~~~~~~~~~~~~~~~~~~~~\n",
      "Original: place blue by c seven again\n",
      "Prediction: place blue by p seven again\n",
      "~~~~~~~~~~~~~~~~~~~~~~~~~~~~~~~~~~~~~~~~~~~~~~~~~~~~~~~~~~~~~~~~~~~~~~~~~~~~~~~~~~~~~~~~~~~~~~~~~~~~\n",
      "100/100 [==============================] - 184s 2s/step - loss: 10.0116 - val_loss: 10.9749\n",
      "Epoch 10/20\n",
      "100/100 [==============================] - ETA: 0s - loss: 9.2758\n",
      "Epoch 10: val_loss did not improve from 9.22529\n",
      "\n",
      "Epoch 10: val_loss did not improve from 9.22529\n",
      "\n",
      "Epoch 10: loss did not improve from 8.73284\n",
      "Original: lay blue in j seven soon\n",
      "Prediction: lay blue it r sive soon\n",
      "~~~~~~~~~~~~~~~~~~~~~~~~~~~~~~~~~~~~~~~~~~~~~~~~~~~~~~~~~~~~~~~~~~~~~~~~~~~~~~~~~~~~~~~~~~~~~~~~~~~~\n",
      "Original: set white at i two please\n",
      "Prediction: set white it g two please\n",
      "~~~~~~~~~~~~~~~~~~~~~~~~~~~~~~~~~~~~~~~~~~~~~~~~~~~~~~~~~~~~~~~~~~~~~~~~~~~~~~~~~~~~~~~~~~~~~~~~~~~~\n",
      "Original: place red at c six now\n",
      "Prediction: place green in r six now\n",
      "~~~~~~~~~~~~~~~~~~~~~~~~~~~~~~~~~~~~~~~~~~~~~~~~~~~~~~~~~~~~~~~~~~~~~~~~~~~~~~~~~~~~~~~~~~~~~~~~~~~~\n",
      "Original: place blue with j three soon\n",
      "Prediction: place blue with x three soo\n",
      "~~~~~~~~~~~~~~~~~~~~~~~~~~~~~~~~~~~~~~~~~~~~~~~~~~~~~~~~~~~~~~~~~~~~~~~~~~~~~~~~~~~~~~~~~~~~~~~~~~~~\n",
      "Original: set white in h eight please\n",
      "Prediction: set white it r sigxt please\n",
      "~~~~~~~~~~~~~~~~~~~~~~~~~~~~~~~~~~~~~~~~~~~~~~~~~~~~~~~~~~~~~~~~~~~~~~~~~~~~~~~~~~~~~~~~~~~~~~~~~~~~\n",
      "Original: lay red at y five soon\n",
      "Prediction: lay red ith f five soon\n",
      "~~~~~~~~~~~~~~~~~~~~~~~~~~~~~~~~~~~~~~~~~~~~~~~~~~~~~~~~~~~~~~~~~~~~~~~~~~~~~~~~~~~~~~~~~~~~~~~~~~~~\n",
      "Original: bin green at a six now\n",
      "Prediction: bin green an a six now\n",
      "~~~~~~~~~~~~~~~~~~~~~~~~~~~~~~~~~~~~~~~~~~~~~~~~~~~~~~~~~~~~~~~~~~~~~~~~~~~~~~~~~~~~~~~~~~~~~~~~~~~~\n",
      "Original: bin white with u zero now\n",
      "Prediction: bin white with g zeroo now\n",
      "~~~~~~~~~~~~~~~~~~~~~~~~~~~~~~~~~~~~~~~~~~~~~~~~~~~~~~~~~~~~~~~~~~~~~~~~~~~~~~~~~~~~~~~~~~~~~~~~~~~~\n",
      "Original: lay blue with r five again\n",
      "Prediction: lay blue with r five again\n",
      "~~~~~~~~~~~~~~~~~~~~~~~~~~~~~~~~~~~~~~~~~~~~~~~~~~~~~~~~~~~~~~~~~~~~~~~~~~~~~~~~~~~~~~~~~~~~~~~~~~~~\n",
      "Original: place blue by c four now\n",
      "Prediction: place blue by p four now\n",
      "~~~~~~~~~~~~~~~~~~~~~~~~~~~~~~~~~~~~~~~~~~~~~~~~~~~~~~~~~~~~~~~~~~~~~~~~~~~~~~~~~~~~~~~~~~~~~~~~~~~~\n",
      "100/100 [==============================] - 185s 2s/step - loss: 9.2758 - val_loss: 9.5060\n",
      "Epoch 11/20\n",
      "100/100 [==============================] - ETA: 0s - loss: 8.9471\n",
      "Epoch 11: val_loss did not improve from 9.22529\n",
      "\n",
      "Epoch 11: val_loss did not improve from 9.22529\n",
      "\n",
      "Epoch 11: loss did not improve from 8.73284\n",
      "Original: set green with q zero please\n",
      "Prediction: set green with j zero please\n",
      "~~~~~~~~~~~~~~~~~~~~~~~~~~~~~~~~~~~~~~~~~~~~~~~~~~~~~~~~~~~~~~~~~~~~~~~~~~~~~~~~~~~~~~~~~~~~~~~~~~~~\n",
      "Original: set blue in m eight now\n",
      "Prediction: set blue in e eight now\n",
      "~~~~~~~~~~~~~~~~~~~~~~~~~~~~~~~~~~~~~~~~~~~~~~~~~~~~~~~~~~~~~~~~~~~~~~~~~~~~~~~~~~~~~~~~~~~~~~~~~~~~\n",
      "Original: set green in o eight please\n",
      "Prediction: set green an p eight please\n",
      "~~~~~~~~~~~~~~~~~~~~~~~~~~~~~~~~~~~~~~~~~~~~~~~~~~~~~~~~~~~~~~~~~~~~~~~~~~~~~~~~~~~~~~~~~~~~~~~~~~~~\n",
      "Original: bin green by h five soon\n",
      "Prediction: bin green by j seven soon\n",
      "~~~~~~~~~~~~~~~~~~~~~~~~~~~~~~~~~~~~~~~~~~~~~~~~~~~~~~~~~~~~~~~~~~~~~~~~~~~~~~~~~~~~~~~~~~~~~~~~~~~~\n",
      "Original: place blue in b six now\n",
      "Prediction: place blue it p six now\n",
      "~~~~~~~~~~~~~~~~~~~~~~~~~~~~~~~~~~~~~~~~~~~~~~~~~~~~~~~~~~~~~~~~~~~~~~~~~~~~~~~~~~~~~~~~~~~~~~~~~~~~\n",
      "Original: bin blue in z one soon\n",
      "Prediction: bin blue in o nine soon\n",
      "~~~~~~~~~~~~~~~~~~~~~~~~~~~~~~~~~~~~~~~~~~~~~~~~~~~~~~~~~~~~~~~~~~~~~~~~~~~~~~~~~~~~~~~~~~~~~~~~~~~~\n",
      "Original: bin red at g zero please\n",
      "Prediction: bin red in g zero please\n",
      "~~~~~~~~~~~~~~~~~~~~~~~~~~~~~~~~~~~~~~~~~~~~~~~~~~~~~~~~~~~~~~~~~~~~~~~~~~~~~~~~~~~~~~~~~~~~~~~~~~~~\n",
      "Original: set red in h three again\n",
      "Prediction: set red in r three again\n",
      "~~~~~~~~~~~~~~~~~~~~~~~~~~~~~~~~~~~~~~~~~~~~~~~~~~~~~~~~~~~~~~~~~~~~~~~~~~~~~~~~~~~~~~~~~~~~~~~~~~~~\n",
      "Original: lay blue with y six now\n",
      "Prediction: lay blue with r six now\n",
      "~~~~~~~~~~~~~~~~~~~~~~~~~~~~~~~~~~~~~~~~~~~~~~~~~~~~~~~~~~~~~~~~~~~~~~~~~~~~~~~~~~~~~~~~~~~~~~~~~~~~\n",
      "Original: bin red in s three soon\n",
      "Prediction: bin red in s three soon\n",
      "~~~~~~~~~~~~~~~~~~~~~~~~~~~~~~~~~~~~~~~~~~~~~~~~~~~~~~~~~~~~~~~~~~~~~~~~~~~~~~~~~~~~~~~~~~~~~~~~~~~~\n",
      "100/100 [==============================] - 188s 2s/step - loss: 8.9471 - val_loss: 9.3434\n",
      "Epoch 12/20\n",
      "100/100 [==============================] - ETA: 0s - loss: 10.6570\n",
      "Epoch 12: val_loss did not improve from 9.22529\n",
      "\n",
      "Epoch 12: val_loss did not improve from 9.22529\n",
      "\n",
      "Epoch 12: loss did not improve from 8.73284\n",
      "Original: place white by q seven again\n",
      "Prediction: place white by k one again\n",
      "~~~~~~~~~~~~~~~~~~~~~~~~~~~~~~~~~~~~~~~~~~~~~~~~~~~~~~~~~~~~~~~~~~~~~~~~~~~~~~~~~~~~~~~~~~~~~~~~~~~~\n",
      "Original: bin green with b six please\n",
      "Prediction: bin green withr six please\n",
      "~~~~~~~~~~~~~~~~~~~~~~~~~~~~~~~~~~~~~~~~~~~~~~~~~~~~~~~~~~~~~~~~~~~~~~~~~~~~~~~~~~~~~~~~~~~~~~~~~~~~\n",
      "Original: bin red by m nine again\n",
      "Prediction: bin red by b none again\n",
      "~~~~~~~~~~~~~~~~~~~~~~~~~~~~~~~~~~~~~~~~~~~~~~~~~~~~~~~~~~~~~~~~~~~~~~~~~~~~~~~~~~~~~~~~~~~~~~~~~~~~\n",
      "Original: set red in t nine soon\n",
      "Prediction: set red in s nine soon\n",
      "~~~~~~~~~~~~~~~~~~~~~~~~~~~~~~~~~~~~~~~~~~~~~~~~~~~~~~~~~~~~~~~~~~~~~~~~~~~~~~~~~~~~~~~~~~~~~~~~~~~~\n",
      "Original: lay white in r four please\n",
      "Prediction: lay white in k four pleas\n",
      "~~~~~~~~~~~~~~~~~~~~~~~~~~~~~~~~~~~~~~~~~~~~~~~~~~~~~~~~~~~~~~~~~~~~~~~~~~~~~~~~~~~~~~~~~~~~~~~~~~~~\n",
      "Original: place white with r zero please\n",
      "Prediction: place white wih r zero plea\n",
      "~~~~~~~~~~~~~~~~~~~~~~~~~~~~~~~~~~~~~~~~~~~~~~~~~~~~~~~~~~~~~~~~~~~~~~~~~~~~~~~~~~~~~~~~~~~~~~~~~~~~\n",
      "Original: place white by y zero please\n",
      "Prediction: place white by k zero please\n",
      "~~~~~~~~~~~~~~~~~~~~~~~~~~~~~~~~~~~~~~~~~~~~~~~~~~~~~~~~~~~~~~~~~~~~~~~~~~~~~~~~~~~~~~~~~~~~~~~~~~~~\n",
      "Original: set white by p one again\n",
      "Prediction: set white by u one again\n",
      "~~~~~~~~~~~~~~~~~~~~~~~~~~~~~~~~~~~~~~~~~~~~~~~~~~~~~~~~~~~~~~~~~~~~~~~~~~~~~~~~~~~~~~~~~~~~~~~~~~~~\n",
      "Original: place green in x six now\n",
      "Prediction: place green in d sixt now\n",
      "~~~~~~~~~~~~~~~~~~~~~~~~~~~~~~~~~~~~~~~~~~~~~~~~~~~~~~~~~~~~~~~~~~~~~~~~~~~~~~~~~~~~~~~~~~~~~~~~~~~~\n",
      "Original: set blue in a zero now\n",
      "Prediction: set blue it g zero now\n",
      "~~~~~~~~~~~~~~~~~~~~~~~~~~~~~~~~~~~~~~~~~~~~~~~~~~~~~~~~~~~~~~~~~~~~~~~~~~~~~~~~~~~~~~~~~~~~~~~~~~~~\n",
      "100/100 [==============================] - 189s 2s/step - loss: 10.6570 - val_loss: 9.9625\n",
      "Epoch 13/20\n",
      "100/100 [==============================] - ETA: 0s - loss: 8.7364\n",
      "Epoch 13: val_loss did not improve from 9.22529\n",
      "\n",
      "Epoch 13: val_loss did not improve from 9.22529\n",
      "\n",
      "Epoch 13: loss did not improve from 8.73284\n",
      "Original: bin blue in l two now\n",
      "Prediction: bin blue in g two now\n",
      "~~~~~~~~~~~~~~~~~~~~~~~~~~~~~~~~~~~~~~~~~~~~~~~~~~~~~~~~~~~~~~~~~~~~~~~~~~~~~~~~~~~~~~~~~~~~~~~~~~~~\n",
      "Original: lay green in z three soon\n",
      "Prediction: lay green in r three soon\n",
      "~~~~~~~~~~~~~~~~~~~~~~~~~~~~~~~~~~~~~~~~~~~~~~~~~~~~~~~~~~~~~~~~~~~~~~~~~~~~~~~~~~~~~~~~~~~~~~~~~~~~\n",
      "Original: lay green in l six please\n",
      "Prediction: lay green in d six please\n",
      "~~~~~~~~~~~~~~~~~~~~~~~~~~~~~~~~~~~~~~~~~~~~~~~~~~~~~~~~~~~~~~~~~~~~~~~~~~~~~~~~~~~~~~~~~~~~~~~~~~~~\n",
      "Original: bin red in s five again\n",
      "Prediction: bin red in l five again\n",
      "~~~~~~~~~~~~~~~~~~~~~~~~~~~~~~~~~~~~~~~~~~~~~~~~~~~~~~~~~~~~~~~~~~~~~~~~~~~~~~~~~~~~~~~~~~~~~~~~~~~~\n",
      "Original: bin green at h zero now\n",
      "Prediction: bin green in g zero now\n",
      "~~~~~~~~~~~~~~~~~~~~~~~~~~~~~~~~~~~~~~~~~~~~~~~~~~~~~~~~~~~~~~~~~~~~~~~~~~~~~~~~~~~~~~~~~~~~~~~~~~~~\n",
      "Original: lay blue at y one again\n",
      "Prediction: lay blue it b one again\n",
      "~~~~~~~~~~~~~~~~~~~~~~~~~~~~~~~~~~~~~~~~~~~~~~~~~~~~~~~~~~~~~~~~~~~~~~~~~~~~~~~~~~~~~~~~~~~~~~~~~~~~\n",
      "Original: set green in v two please\n",
      "Prediction: set green ith v two please\n",
      "~~~~~~~~~~~~~~~~~~~~~~~~~~~~~~~~~~~~~~~~~~~~~~~~~~~~~~~~~~~~~~~~~~~~~~~~~~~~~~~~~~~~~~~~~~~~~~~~~~~~\n",
      "Original: bin green at u zero please\n",
      "Prediction: bin green in g zero please\n",
      "~~~~~~~~~~~~~~~~~~~~~~~~~~~~~~~~~~~~~~~~~~~~~~~~~~~~~~~~~~~~~~~~~~~~~~~~~~~~~~~~~~~~~~~~~~~~~~~~~~~~\n",
      "Original: set green by x zero please\n",
      "Prediction: set green by p zero please\n",
      "~~~~~~~~~~~~~~~~~~~~~~~~~~~~~~~~~~~~~~~~~~~~~~~~~~~~~~~~~~~~~~~~~~~~~~~~~~~~~~~~~~~~~~~~~~~~~~~~~~~~\n",
      "Original: lay red at e two now\n",
      "Prediction: lay red in d two now\n",
      "~~~~~~~~~~~~~~~~~~~~~~~~~~~~~~~~~~~~~~~~~~~~~~~~~~~~~~~~~~~~~~~~~~~~~~~~~~~~~~~~~~~~~~~~~~~~~~~~~~~~\n",
      "100/100 [==============================] - 183s 2s/step - loss: 8.7364 - val_loss: 10.7535\n",
      "Epoch 14/20\n",
      "100/100 [==============================] - ETA: 0s - loss: 7.9489\n",
      "Epoch 14: val_loss did not improve from 9.22529\n",
      "\n",
      "Epoch 14: val_loss did not improve from 9.22529\n",
      "\n",
      "Epoch 14: loss improved from 8.73284 to 7.94892, saving model to model-226-plus-20-loss.keras\n",
      "Original: lay red at r three again\n",
      "Prediction: lay red in l three again\n",
      "~~~~~~~~~~~~~~~~~~~~~~~~~~~~~~~~~~~~~~~~~~~~~~~~~~~~~~~~~~~~~~~~~~~~~~~~~~~~~~~~~~~~~~~~~~~~~~~~~~~~\n",
      "Original: bin white at t four please\n",
      "Prediction: bin white in g four plea\n",
      "~~~~~~~~~~~~~~~~~~~~~~~~~~~~~~~~~~~~~~~~~~~~~~~~~~~~~~~~~~~~~~~~~~~~~~~~~~~~~~~~~~~~~~~~~~~~~~~~~~~~\n",
      "Original: bin blue by m one soon\n",
      "Prediction: bin blue by b one soon\n",
      "~~~~~~~~~~~~~~~~~~~~~~~~~~~~~~~~~~~~~~~~~~~~~~~~~~~~~~~~~~~~~~~~~~~~~~~~~~~~~~~~~~~~~~~~~~~~~~~~~~~~\n",
      "Original: place white with q eight now\n",
      "Prediction: place white with r sight now\n",
      "~~~~~~~~~~~~~~~~~~~~~~~~~~~~~~~~~~~~~~~~~~~~~~~~~~~~~~~~~~~~~~~~~~~~~~~~~~~~~~~~~~~~~~~~~~~~~~~~~~~~\n",
      "Original: set blue with h six now\n",
      "Prediction: set blue it f six now\n",
      "~~~~~~~~~~~~~~~~~~~~~~~~~~~~~~~~~~~~~~~~~~~~~~~~~~~~~~~~~~~~~~~~~~~~~~~~~~~~~~~~~~~~~~~~~~~~~~~~~~~~\n",
      "Original: lay blue in q one soon\n",
      "Prediction: lay blue in r one soon\n",
      "~~~~~~~~~~~~~~~~~~~~~~~~~~~~~~~~~~~~~~~~~~~~~~~~~~~~~~~~~~~~~~~~~~~~~~~~~~~~~~~~~~~~~~~~~~~~~~~~~~~~\n",
      "Original: place red by x two now\n",
      "Prediction: place red by tour now\n",
      "~~~~~~~~~~~~~~~~~~~~~~~~~~~~~~~~~~~~~~~~~~~~~~~~~~~~~~~~~~~~~~~~~~~~~~~~~~~~~~~~~~~~~~~~~~~~~~~~~~~~\n",
      "Original: set red at o one again\n",
      "Prediction: set red in u one again\n",
      "~~~~~~~~~~~~~~~~~~~~~~~~~~~~~~~~~~~~~~~~~~~~~~~~~~~~~~~~~~~~~~~~~~~~~~~~~~~~~~~~~~~~~~~~~~~~~~~~~~~~\n",
      "Original: lay red at y six please\n",
      "Prediction: lay red in r six please\n",
      "~~~~~~~~~~~~~~~~~~~~~~~~~~~~~~~~~~~~~~~~~~~~~~~~~~~~~~~~~~~~~~~~~~~~~~~~~~~~~~~~~~~~~~~~~~~~~~~~~~~~\n",
      "Original: place green at d eight now\n",
      "Prediction: place green in d eight now\n",
      "~~~~~~~~~~~~~~~~~~~~~~~~~~~~~~~~~~~~~~~~~~~~~~~~~~~~~~~~~~~~~~~~~~~~~~~~~~~~~~~~~~~~~~~~~~~~~~~~~~~~\n",
      "100/100 [==============================] - 190s 2s/step - loss: 7.9489 - val_loss: 9.9441\n",
      "Epoch 15/20\n",
      "100/100 [==============================] - ETA: 0s - loss: 9.0812\n",
      "Epoch 15: val_loss did not improve from 9.22529\n",
      "\n",
      "Epoch 15: val_loss did not improve from 9.22529\n",
      "\n",
      "Epoch 15: loss did not improve from 7.94892\n",
      "Original: place blue at c three again\n",
      "Prediction: place blue with r three ag\n",
      "~~~~~~~~~~~~~~~~~~~~~~~~~~~~~~~~~~~~~~~~~~~~~~~~~~~~~~~~~~~~~~~~~~~~~~~~~~~~~~~~~~~~~~~~~~~~~~~~~~~~\n",
      "Original: bin red with t four now\n",
      "Prediction: bin red with fur now\n",
      "~~~~~~~~~~~~~~~~~~~~~~~~~~~~~~~~~~~~~~~~~~~~~~~~~~~~~~~~~~~~~~~~~~~~~~~~~~~~~~~~~~~~~~~~~~~~~~~~~~~~\n",
      "Original: set red at u two now\n",
      "Prediction: set red inh x four nw\n",
      "~~~~~~~~~~~~~~~~~~~~~~~~~~~~~~~~~~~~~~~~~~~~~~~~~~~~~~~~~~~~~~~~~~~~~~~~~~~~~~~~~~~~~~~~~~~~~~~~~~~~\n",
      "Original: bin blue in z three again\n",
      "Prediction: bin blue with l three agai\n",
      "~~~~~~~~~~~~~~~~~~~~~~~~~~~~~~~~~~~~~~~~~~~~~~~~~~~~~~~~~~~~~~~~~~~~~~~~~~~~~~~~~~~~~~~~~~~~~~~~~~~~\n",
      "Original: bin green in a four please\n",
      "Prediction: bin green it p four plea\n",
      "~~~~~~~~~~~~~~~~~~~~~~~~~~~~~~~~~~~~~~~~~~~~~~~~~~~~~~~~~~~~~~~~~~~~~~~~~~~~~~~~~~~~~~~~~~~~~~~~~~~~\n",
      "Original: bin red at m four please\n",
      "Prediction: bin red it m feur ple\n",
      "~~~~~~~~~~~~~~~~~~~~~~~~~~~~~~~~~~~~~~~~~~~~~~~~~~~~~~~~~~~~~~~~~~~~~~~~~~~~~~~~~~~~~~~~~~~~~~~~~~~~\n",
      "Original: lay green by s six now\n",
      "Prediction: lay greedn by r six now\n",
      "~~~~~~~~~~~~~~~~~~~~~~~~~~~~~~~~~~~~~~~~~~~~~~~~~~~~~~~~~~~~~~~~~~~~~~~~~~~~~~~~~~~~~~~~~~~~~~~~~~~~\n",
      "Original: place red at c seven soon\n",
      "Prediction: place red in r seve so\n",
      "~~~~~~~~~~~~~~~~~~~~~~~~~~~~~~~~~~~~~~~~~~~~~~~~~~~~~~~~~~~~~~~~~~~~~~~~~~~~~~~~~~~~~~~~~~~~~~~~~~~~\n",
      "Original: bin red by g four please\n",
      "Prediction: bin gred by v four please\n",
      "~~~~~~~~~~~~~~~~~~~~~~~~~~~~~~~~~~~~~~~~~~~~~~~~~~~~~~~~~~~~~~~~~~~~~~~~~~~~~~~~~~~~~~~~~~~~~~~~~~~~\n",
      "Original: place white with y two now\n",
      "Prediction: place white with d two no\n",
      "~~~~~~~~~~~~~~~~~~~~~~~~~~~~~~~~~~~~~~~~~~~~~~~~~~~~~~~~~~~~~~~~~~~~~~~~~~~~~~~~~~~~~~~~~~~~~~~~~~~~\n",
      "100/100 [==============================] - 186s 2s/step - loss: 9.0812 - val_loss: 16.3327\n",
      "Epoch 16/20\n",
      "100/100 [==============================] - ETA: 0s - loss: 9.8462\n",
      "Epoch 16: val_loss did not improve from 9.22529\n",
      "\n",
      "Epoch 16: val_loss did not improve from 9.22529\n",
      "\n",
      "Epoch 16: loss did not improve from 7.94892\n",
      "Original: place red in v six please\n",
      "Prediction: place red in r six ple\n",
      "~~~~~~~~~~~~~~~~~~~~~~~~~~~~~~~~~~~~~~~~~~~~~~~~~~~~~~~~~~~~~~~~~~~~~~~~~~~~~~~~~~~~~~~~~~~~~~~~~~~~\n",
      "Original: set green at c five again\n",
      "Prediction: set green in l five agai\n",
      "~~~~~~~~~~~~~~~~~~~~~~~~~~~~~~~~~~~~~~~~~~~~~~~~~~~~~~~~~~~~~~~~~~~~~~~~~~~~~~~~~~~~~~~~~~~~~~~~~~~~\n",
      "Original: set blue at t six now\n",
      "Prediction: set blue ith r six now\n",
      "~~~~~~~~~~~~~~~~~~~~~~~~~~~~~~~~~~~~~~~~~~~~~~~~~~~~~~~~~~~~~~~~~~~~~~~~~~~~~~~~~~~~~~~~~~~~~~~~~~~~\n",
      "Original: set blue in a three again\n",
      "Prediction: set bluen with l three aga\n",
      "~~~~~~~~~~~~~~~~~~~~~~~~~~~~~~~~~~~~~~~~~~~~~~~~~~~~~~~~~~~~~~~~~~~~~~~~~~~~~~~~~~~~~~~~~~~~~~~~~~~~\n",
      "Original: set white in u seven again\n",
      "Prediction: set white it l sive agai\n",
      "~~~~~~~~~~~~~~~~~~~~~~~~~~~~~~~~~~~~~~~~~~~~~~~~~~~~~~~~~~~~~~~~~~~~~~~~~~~~~~~~~~~~~~~~~~~~~~~~~~~~\n",
      "Original: place green by k eight please\n",
      "Prediction: place green by k eight plea\n",
      "~~~~~~~~~~~~~~~~~~~~~~~~~~~~~~~~~~~~~~~~~~~~~~~~~~~~~~~~~~~~~~~~~~~~~~~~~~~~~~~~~~~~~~~~~~~~~~~~~~~~\n",
      "Original: place red by d two please\n",
      "Prediction: place red by k two pleas\n",
      "~~~~~~~~~~~~~~~~~~~~~~~~~~~~~~~~~~~~~~~~~~~~~~~~~~~~~~~~~~~~~~~~~~~~~~~~~~~~~~~~~~~~~~~~~~~~~~~~~~~~\n",
      "Original: lay red in e one again\n",
      "Prediction: lay red in r one again\n",
      "~~~~~~~~~~~~~~~~~~~~~~~~~~~~~~~~~~~~~~~~~~~~~~~~~~~~~~~~~~~~~~~~~~~~~~~~~~~~~~~~~~~~~~~~~~~~~~~~~~~~\n",
      "Original: set blue by h four please\n",
      "Prediction: set blue bt s four pl\n",
      "~~~~~~~~~~~~~~~~~~~~~~~~~~~~~~~~~~~~~~~~~~~~~~~~~~~~~~~~~~~~~~~~~~~~~~~~~~~~~~~~~~~~~~~~~~~~~~~~~~~~\n",
      "Original: bin white at a two please\n",
      "Prediction: bin white an p two pleas\n",
      "~~~~~~~~~~~~~~~~~~~~~~~~~~~~~~~~~~~~~~~~~~~~~~~~~~~~~~~~~~~~~~~~~~~~~~~~~~~~~~~~~~~~~~~~~~~~~~~~~~~~\n",
      "100/100 [==============================] - 192s 2s/step - loss: 9.8462 - val_loss: 11.1819\n",
      "Epoch 17/20\n",
      "100/100 [==============================] - ETA: 0s - loss: 8.2815\n",
      "Epoch 17: val_loss did not improve from 9.22529\n",
      "\n",
      "Epoch 17: val_loss did not improve from 9.22529\n",
      "\n",
      "Epoch 17: loss did not improve from 7.94892\n",
      "Original: place white by q four now\n",
      "Prediction: place white by j four now\n",
      "~~~~~~~~~~~~~~~~~~~~~~~~~~~~~~~~~~~~~~~~~~~~~~~~~~~~~~~~~~~~~~~~~~~~~~~~~~~~~~~~~~~~~~~~~~~~~~~~~~~~\n",
      "Original: bin white at a three again\n",
      "Prediction: bin white in s three agai\n",
      "~~~~~~~~~~~~~~~~~~~~~~~~~~~~~~~~~~~~~~~~~~~~~~~~~~~~~~~~~~~~~~~~~~~~~~~~~~~~~~~~~~~~~~~~~~~~~~~~~~~~\n",
      "Original: lay red by l three again\n",
      "Prediction: lay red by x three again\n",
      "~~~~~~~~~~~~~~~~~~~~~~~~~~~~~~~~~~~~~~~~~~~~~~~~~~~~~~~~~~~~~~~~~~~~~~~~~~~~~~~~~~~~~~~~~~~~~~~~~~~~\n",
      "Original: bin white in s nine soon\n",
      "Prediction: bin white in n nine soon\n",
      "~~~~~~~~~~~~~~~~~~~~~~~~~~~~~~~~~~~~~~~~~~~~~~~~~~~~~~~~~~~~~~~~~~~~~~~~~~~~~~~~~~~~~~~~~~~~~~~~~~~~\n",
      "Original: bin blue at z five soon\n",
      "Prediction: bin blue ith f five soon\n",
      "~~~~~~~~~~~~~~~~~~~~~~~~~~~~~~~~~~~~~~~~~~~~~~~~~~~~~~~~~~~~~~~~~~~~~~~~~~~~~~~~~~~~~~~~~~~~~~~~~~~~\n",
      "Original: lay red in k four please\n",
      "Prediction: lay red in v four please\n",
      "~~~~~~~~~~~~~~~~~~~~~~~~~~~~~~~~~~~~~~~~~~~~~~~~~~~~~~~~~~~~~~~~~~~~~~~~~~~~~~~~~~~~~~~~~~~~~~~~~~~~\n",
      "Original: set white with p three soon\n",
      "Prediction: set white with b three so\n",
      "~~~~~~~~~~~~~~~~~~~~~~~~~~~~~~~~~~~~~~~~~~~~~~~~~~~~~~~~~~~~~~~~~~~~~~~~~~~~~~~~~~~~~~~~~~~~~~~~~~~~\n",
      "Original: lay red by z zero please\n",
      "Prediction: lay red by k zero please\n",
      "~~~~~~~~~~~~~~~~~~~~~~~~~~~~~~~~~~~~~~~~~~~~~~~~~~~~~~~~~~~~~~~~~~~~~~~~~~~~~~~~~~~~~~~~~~~~~~~~~~~~\n",
      "Original: bin blue by f six now\n",
      "Prediction: bin blue by n six now\n",
      "~~~~~~~~~~~~~~~~~~~~~~~~~~~~~~~~~~~~~~~~~~~~~~~~~~~~~~~~~~~~~~~~~~~~~~~~~~~~~~~~~~~~~~~~~~~~~~~~~~~~\n",
      "Original: bin white in g two please\n",
      "Prediction: bin white in p two please\n",
      "~~~~~~~~~~~~~~~~~~~~~~~~~~~~~~~~~~~~~~~~~~~~~~~~~~~~~~~~~~~~~~~~~~~~~~~~~~~~~~~~~~~~~~~~~~~~~~~~~~~~\n",
      "100/100 [==============================] - 195s 2s/step - loss: 8.2815 - val_loss: 11.3179\n",
      "Epoch 18/20\n",
      "100/100 [==============================] - ETA: 0s - loss: 7.4885\n",
      "Epoch 18: val_loss did not improve from 9.22529\n",
      "\n",
      "Epoch 18: val_loss did not improve from 9.22529\n",
      "\n",
      "Epoch 18: loss improved from 7.94892 to 7.48852, saving model to model-226-plus-20-loss.keras\n",
      "Original: bin blue by s six please\n",
      "Prediction: bin blue by p six please\n",
      "~~~~~~~~~~~~~~~~~~~~~~~~~~~~~~~~~~~~~~~~~~~~~~~~~~~~~~~~~~~~~~~~~~~~~~~~~~~~~~~~~~~~~~~~~~~~~~~~~~~~\n",
      "Original: bin white by a seven again\n",
      "Prediction: bin white by s seven again\n",
      "~~~~~~~~~~~~~~~~~~~~~~~~~~~~~~~~~~~~~~~~~~~~~~~~~~~~~~~~~~~~~~~~~~~~~~~~~~~~~~~~~~~~~~~~~~~~~~~~~~~~\n",
      "Original: bin blue at z seven again\n",
      "Prediction: bin blue in r seve again\n",
      "~~~~~~~~~~~~~~~~~~~~~~~~~~~~~~~~~~~~~~~~~~~~~~~~~~~~~~~~~~~~~~~~~~~~~~~~~~~~~~~~~~~~~~~~~~~~~~~~~~~~\n",
      "Original: bin white with n eight please\n",
      "Prediction: bin rede with u sixt pleas\n",
      "~~~~~~~~~~~~~~~~~~~~~~~~~~~~~~~~~~~~~~~~~~~~~~~~~~~~~~~~~~~~~~~~~~~~~~~~~~~~~~~~~~~~~~~~~~~~~~~~~~~~\n",
      "Original: set green with j five soon\n",
      "Prediction: set green with f five soon\n",
      "~~~~~~~~~~~~~~~~~~~~~~~~~~~~~~~~~~~~~~~~~~~~~~~~~~~~~~~~~~~~~~~~~~~~~~~~~~~~~~~~~~~~~~~~~~~~~~~~~~~~\n",
      "Original: lay red in e zero please\n",
      "Prediction: lay red in k zero please\n",
      "~~~~~~~~~~~~~~~~~~~~~~~~~~~~~~~~~~~~~~~~~~~~~~~~~~~~~~~~~~~~~~~~~~~~~~~~~~~~~~~~~~~~~~~~~~~~~~~~~~~~\n",
      "Original: set red at b two please\n",
      "Prediction: set red in g two please\n",
      "~~~~~~~~~~~~~~~~~~~~~~~~~~~~~~~~~~~~~~~~~~~~~~~~~~~~~~~~~~~~~~~~~~~~~~~~~~~~~~~~~~~~~~~~~~~~~~~~~~~~\n",
      "Original: set green with x two now\n",
      "Prediction: set greenwith h two now\n",
      "~~~~~~~~~~~~~~~~~~~~~~~~~~~~~~~~~~~~~~~~~~~~~~~~~~~~~~~~~~~~~~~~~~~~~~~~~~~~~~~~~~~~~~~~~~~~~~~~~~~~\n",
      "Original: place white with k four now\n",
      "Prediction: place white with r four now\n",
      "~~~~~~~~~~~~~~~~~~~~~~~~~~~~~~~~~~~~~~~~~~~~~~~~~~~~~~~~~~~~~~~~~~~~~~~~~~~~~~~~~~~~~~~~~~~~~~~~~~~~\n",
      "Original: place blue at i five soon\n",
      "Prediction: place blue it v five soon\n",
      "~~~~~~~~~~~~~~~~~~~~~~~~~~~~~~~~~~~~~~~~~~~~~~~~~~~~~~~~~~~~~~~~~~~~~~~~~~~~~~~~~~~~~~~~~~~~~~~~~~~~\n",
      "100/100 [==============================] - 190s 2s/step - loss: 7.4885 - val_loss: 11.3333\n",
      "Epoch 19/20\n",
      "100/100 [==============================] - ETA: 0s - loss: 7.0964\n",
      "Epoch 19: val_loss did not improve from 9.22529\n",
      "\n",
      "Epoch 19: val_loss did not improve from 9.22529\n",
      "\n",
      "Epoch 19: loss improved from 7.48852 to 7.09642, saving model to model-226-plus-20-loss.keras\n",
      "Original: place white in c eight now\n",
      "Prediction: place white it r eight now\n",
      "~~~~~~~~~~~~~~~~~~~~~~~~~~~~~~~~~~~~~~~~~~~~~~~~~~~~~~~~~~~~~~~~~~~~~~~~~~~~~~~~~~~~~~~~~~~~~~~~~~~~\n",
      "Original: set blue by u two please\n",
      "Prediction: set blue in v two please\n",
      "~~~~~~~~~~~~~~~~~~~~~~~~~~~~~~~~~~~~~~~~~~~~~~~~~~~~~~~~~~~~~~~~~~~~~~~~~~~~~~~~~~~~~~~~~~~~~~~~~~~~\n",
      "Original: set red in n five soon\n",
      "Prediction: set red it f five soon\n",
      "~~~~~~~~~~~~~~~~~~~~~~~~~~~~~~~~~~~~~~~~~~~~~~~~~~~~~~~~~~~~~~~~~~~~~~~~~~~~~~~~~~~~~~~~~~~~~~~~~~~~\n",
      "Original: set blue in t five again\n",
      "Prediction: set blue it f five again\n",
      "~~~~~~~~~~~~~~~~~~~~~~~~~~~~~~~~~~~~~~~~~~~~~~~~~~~~~~~~~~~~~~~~~~~~~~~~~~~~~~~~~~~~~~~~~~~~~~~~~~~~\n",
      "Original: lay red by l zero now\n",
      "Prediction: lay red by r zero now\n",
      "~~~~~~~~~~~~~~~~~~~~~~~~~~~~~~~~~~~~~~~~~~~~~~~~~~~~~~~~~~~~~~~~~~~~~~~~~~~~~~~~~~~~~~~~~~~~~~~~~~~~\n",
      "Original: place green at y zero now\n",
      "Prediction: place green in r zero now\n",
      "~~~~~~~~~~~~~~~~~~~~~~~~~~~~~~~~~~~~~~~~~~~~~~~~~~~~~~~~~~~~~~~~~~~~~~~~~~~~~~~~~~~~~~~~~~~~~~~~~~~~\n",
      "Original: set green at v six please\n",
      "Prediction: set green in j six please\n",
      "~~~~~~~~~~~~~~~~~~~~~~~~~~~~~~~~~~~~~~~~~~~~~~~~~~~~~~~~~~~~~~~~~~~~~~~~~~~~~~~~~~~~~~~~~~~~~~~~~~~~\n",
      "Original: place red at j three again\n",
      "Prediction: place red in l three aga\n",
      "~~~~~~~~~~~~~~~~~~~~~~~~~~~~~~~~~~~~~~~~~~~~~~~~~~~~~~~~~~~~~~~~~~~~~~~~~~~~~~~~~~~~~~~~~~~~~~~~~~~~\n",
      "Original: set blue in n one again\n",
      "Prediction: set blue in n one again\n",
      "~~~~~~~~~~~~~~~~~~~~~~~~~~~~~~~~~~~~~~~~~~~~~~~~~~~~~~~~~~~~~~~~~~~~~~~~~~~~~~~~~~~~~~~~~~~~~~~~~~~~\n",
      "Original: bin blue with m seven again\n",
      "Prediction: bin blue with g seven agai\n",
      "~~~~~~~~~~~~~~~~~~~~~~~~~~~~~~~~~~~~~~~~~~~~~~~~~~~~~~~~~~~~~~~~~~~~~~~~~~~~~~~~~~~~~~~~~~~~~~~~~~~~\n",
      "100/100 [==============================] - 195s 2s/step - loss: 7.0964 - val_loss: 9.9137\n",
      "Epoch 20/20\n",
      "100/100 [==============================] - ETA: 0s - loss: 7.0033\n",
      "Epoch 20: val_loss did not improve from 9.22529\n",
      "\n",
      "Epoch 20: val_loss did not improve from 9.22529\n",
      "\n",
      "Epoch 20: loss improved from 7.09642 to 7.00333, saving model to model-226-plus-20-loss.keras\n",
      "Original: set blue with u seven again\n",
      "Prediction: set blue with g seven again\n",
      "~~~~~~~~~~~~~~~~~~~~~~~~~~~~~~~~~~~~~~~~~~~~~~~~~~~~~~~~~~~~~~~~~~~~~~~~~~~~~~~~~~~~~~~~~~~~~~~~~~~~\n",
      "Original: place white at d five again\n",
      "Prediction: place white in r five ag\n",
      "~~~~~~~~~~~~~~~~~~~~~~~~~~~~~~~~~~~~~~~~~~~~~~~~~~~~~~~~~~~~~~~~~~~~~~~~~~~~~~~~~~~~~~~~~~~~~~~~~~~~\n",
      "Original: bin white at g four now\n",
      "Prediction: bin white at f four no\n",
      "~~~~~~~~~~~~~~~~~~~~~~~~~~~~~~~~~~~~~~~~~~~~~~~~~~~~~~~~~~~~~~~~~~~~~~~~~~~~~~~~~~~~~~~~~~~~~~~~~~~~\n",
      "Original: place blue by p three soon\n",
      "Prediction: place blue bt x three so\n",
      "~~~~~~~~~~~~~~~~~~~~~~~~~~~~~~~~~~~~~~~~~~~~~~~~~~~~~~~~~~~~~~~~~~~~~~~~~~~~~~~~~~~~~~~~~~~~~~~~~~~~\n",
      "Original: place white with e three again\n",
      "Prediction: place white with r thne \n",
      "~~~~~~~~~~~~~~~~~~~~~~~~~~~~~~~~~~~~~~~~~~~~~~~~~~~~~~~~~~~~~~~~~~~~~~~~~~~~~~~~~~~~~~~~~~~~~~~~~~~~\n",
      "Original: bin red by t three again\n",
      "Prediction: bin red by t three again\n",
      "~~~~~~~~~~~~~~~~~~~~~~~~~~~~~~~~~~~~~~~~~~~~~~~~~~~~~~~~~~~~~~~~~~~~~~~~~~~~~~~~~~~~~~~~~~~~~~~~~~~~\n",
      "Original: lay blue by k six please\n",
      "Prediction: lay blue by p six pleas\n",
      "~~~~~~~~~~~~~~~~~~~~~~~~~~~~~~~~~~~~~~~~~~~~~~~~~~~~~~~~~~~~~~~~~~~~~~~~~~~~~~~~~~~~~~~~~~~~~~~~~~~~\n",
      "Original: bin white at a one soon\n",
      "Prediction: bin white in u one so\n",
      "~~~~~~~~~~~~~~~~~~~~~~~~~~~~~~~~~~~~~~~~~~~~~~~~~~~~~~~~~~~~~~~~~~~~~~~~~~~~~~~~~~~~~~~~~~~~~~~~~~~~\n",
      "Original: place red by p nine soon\n",
      "Prediction: place red by r nine soon\n",
      "~~~~~~~~~~~~~~~~~~~~~~~~~~~~~~~~~~~~~~~~~~~~~~~~~~~~~~~~~~~~~~~~~~~~~~~~~~~~~~~~~~~~~~~~~~~~~~~~~~~~\n",
      "Original: lay blue with y nine again\n",
      "Prediction: lay blue winh k nine again\n",
      "~~~~~~~~~~~~~~~~~~~~~~~~~~~~~~~~~~~~~~~~~~~~~~~~~~~~~~~~~~~~~~~~~~~~~~~~~~~~~~~~~~~~~~~~~~~~~~~~~~~~\n",
      "100/100 [==============================] - 196s 2s/step - loss: 7.0033 - val_loss: 11.2522\n"
     ]
    },
    {
     "data": {
      "text/plain": [
       "<keras.src.callbacks.History at 0x7c78e6c25a80>"
      ]
     },
     "execution_count": 37,
     "metadata": {},
     "output_type": "execute_result"
    }
   ],
   "source": [
    "model.fit(data, epochs=20, validation_data=(val), callbacks=callbacks, verbose=1)"
   ]
  },
  {
   "cell_type": "code",
   "execution_count": 38,
   "id": "9a85dd0a",
   "metadata": {
    "execution": {
     "iopub.execute_input": "2024-05-30T13:11:24.199270Z",
     "iopub.status.busy": "2024-05-30T13:11:24.198855Z",
     "iopub.status.idle": "2024-05-30T13:11:25.480656Z",
     "shell.execute_reply": "2024-05-30T13:11:25.479713Z"
    },
    "papermill": {
     "duration": 1.506774,
     "end_time": "2024-05-30T13:11:25.483341",
     "exception": false,
     "start_time": "2024-05-30T13:11:23.976567",
     "status": "completed"
    },
    "tags": []
   },
   "outputs": [],
   "source": [
    "model.save(\"LipNet-Final-NoCheckpoint.keras\")\n",
    "model.save(\"LipNet-Final-NoCheckpoint.h5\")"
   ]
  },
  {
   "cell_type": "code",
   "execution_count": 39,
   "id": "9baaf241",
   "metadata": {
    "execution": {
     "iopub.execute_input": "2024-05-30T13:11:25.927084Z",
     "iopub.status.busy": "2024-05-30T13:11:25.926238Z",
     "iopub.status.idle": "2024-05-30T13:11:52.133194Z",
     "shell.execute_reply": "2024-05-30T13:11:52.132189Z"
    },
    "papermill": {
     "duration": 26.430548,
     "end_time": "2024-05-30T13:11:52.135191",
     "exception": false,
     "start_time": "2024-05-30T13:11:25.704643",
     "status": "completed"
    },
    "tags": []
   },
   "outputs": [
    {
     "name": "stdout",
     "output_type": "stream",
     "text": [
      "Original: lay blue in j nine again\n",
      "Prediction: lay blue in d nine again\n",
      "~~~~~~~~~~~~~~~~~~~~~~~~~~~~~~~~~~~~~~~~~~~~~~~~~~~~~~~~~~~~~~~~~~~~~~~~~~~~~~~~~~~~~~~~~~~~~~~~~~~~\n",
      "Original: bin white at m nine soon\n",
      "Prediction: bin white in n nine soo\n",
      "~~~~~~~~~~~~~~~~~~~~~~~~~~~~~~~~~~~~~~~~~~~~~~~~~~~~~~~~~~~~~~~~~~~~~~~~~~~~~~~~~~~~~~~~~~~~~~~~~~~~\n",
      "Original: set blue at n five again\n",
      "Prediction: set blue at m five agai\n",
      "~~~~~~~~~~~~~~~~~~~~~~~~~~~~~~~~~~~~~~~~~~~~~~~~~~~~~~~~~~~~~~~~~~~~~~~~~~~~~~~~~~~~~~~~~~~~~~~~~~~~\n",
      "Original: bin red in z seven soon\n",
      "Prediction: bin red in n seven soon\n",
      "~~~~~~~~~~~~~~~~~~~~~~~~~~~~~~~~~~~~~~~~~~~~~~~~~~~~~~~~~~~~~~~~~~~~~~~~~~~~~~~~~~~~~~~~~~~~~~~~~~~~\n",
      "Original: place green with l zero now\n",
      "Prediction: place green with r zero now\n",
      "~~~~~~~~~~~~~~~~~~~~~~~~~~~~~~~~~~~~~~~~~~~~~~~~~~~~~~~~~~~~~~~~~~~~~~~~~~~~~~~~~~~~~~~~~~~~~~~~~~~~\n"
     ]
    }
   ],
   "source": [
    "callbacks[-1].on_epoch_end(10)"
   ]
  },
  {
   "cell_type": "code",
   "execution_count": null,
   "id": "3fa6ee79",
   "metadata": {
    "papermill": {
     "duration": 0.202634,
     "end_time": "2024-05-30T13:11:52.538742",
     "exception": false,
     "start_time": "2024-05-30T13:11:52.336108",
     "status": "completed"
    },
    "tags": []
   },
   "outputs": [],
   "source": []
  }
 ],
 "metadata": {
  "kaggle": {
   "accelerator": "nvidiaTeslaT4",
   "dataSources": [
    {
     "datasetId": 5057013,
     "sourceId": 8478957,
     "sourceType": "datasetVersion"
    },
    {
     "isSourceIdPinned": true,
     "modelInstanceId": 48840,
     "sourceId": 58290,
     "sourceType": "modelInstanceVersion"
    }
   ],
   "dockerImageVersionId": 30698,
   "isGpuEnabled": true,
   "isInternetEnabled": true,
   "language": "python",
   "sourceType": "notebook"
  },
  "kernelspec": {
   "display_name": "Python 3",
   "language": "python",
   "name": "python3"
  },
  "language_info": {
   "codemirror_mode": {
    "name": "ipython",
    "version": 3
   },
   "file_extension": ".py",
   "mimetype": "text/x-python",
   "name": "python",
   "nbconvert_exporter": "python",
   "pygments_lexer": "ipython3",
   "version": "3.10.13"
  },
  "papermill": {
   "default_parameters": {},
   "duration": 6965.184982,
   "end_time": "2024-05-30T13:11:55.883990",
   "environment_variables": {},
   "exception": null,
   "input_path": "__notebook__.ipynb",
   "output_path": "__notebook__.ipynb",
   "parameters": {},
   "start_time": "2024-05-30T11:15:50.699008",
   "version": "2.5.0"
  }
 },
 "nbformat": 4,
 "nbformat_minor": 5
}
